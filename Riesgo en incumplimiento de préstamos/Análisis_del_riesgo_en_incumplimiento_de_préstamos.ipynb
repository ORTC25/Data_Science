{
 "cells": [
  {
   "cell_type": "markdown",
   "id": "29b3a4d1",
   "metadata": {},
   "source": [
    "# Análisis del riesgo de incumplimiento de los prestatarios\n",
    "\n",
    "## Banco S - División de Préstamos\n",
    "\n",
    "### Informe sobre la capacidad de prestatarios potenciales para pagar préstamos.\n",
    "\n",
    "En este informe se desarrolla una **Puntuación de crédito**, métrica que evalúa la capacidad de prestatarios potenciales para pagar sus préstamos.\n",
    "\n",
    "**Hipótesis**\n",
    "\n",
    "1. El estado civil del prestatario influye en su capacidad de pago\n",
    "2. El número de hijos del prestatario influye en su capacidad de pago\n",
    "\n",
    "***"
   ]
  },
  {
   "cell_type": "code",
   "execution_count": 1,
   "id": "da79c4bf",
   "metadata": {},
   "outputs": [],
   "source": [
    "import pandas as pd\n",
    "import numpy as np"
   ]
  },
  {
   "cell_type": "code",
   "execution_count": 2,
   "id": "b487e11a",
   "metadata": {},
   "outputs": [],
   "source": [
    "credit = pd.read_csv('/datasets/credit_scoring_eng.csv')"
   ]
  },
  {
   "cell_type": "markdown",
   "id": "067c4b77",
   "metadata": {},
   "source": [
    "***\n",
    "> ## Exploración de los datos\n",
    "***"
   ]
  },
  {
   "cell_type": "code",
   "execution_count": 3,
   "id": "0bfda339",
   "metadata": {},
   "outputs": [
    {
     "name": "stdout",
     "output_type": "stream",
     "text": [
      "<class 'pandas.core.frame.DataFrame'>\n",
      "RangeIndex: 21525 entries, 0 to 21524\n",
      "Data columns (total 12 columns):\n",
      " #   Column            Non-Null Count  Dtype  \n",
      "---  ------            --------------  -----  \n",
      " 0   children          21525 non-null  int64  \n",
      " 1   days_employed     19351 non-null  float64\n",
      " 2   dob_years         21525 non-null  int64  \n",
      " 3   education         21525 non-null  object \n",
      " 4   education_id      21525 non-null  int64  \n",
      " 5   family_status     21525 non-null  object \n",
      " 6   family_status_id  21525 non-null  int64  \n",
      " 7   gender            21525 non-null  object \n",
      " 8   income_type       21525 non-null  object \n",
      " 9   debt              21525 non-null  int64  \n",
      " 10  total_income      19351 non-null  float64\n",
      " 11  purpose           21525 non-null  object \n",
      "dtypes: float64(2), int64(5), object(5)\n",
      "memory usage: 2.0+ MB\n"
     ]
    }
   ],
   "source": [
    "credit.info()"
   ]
  },
  {
   "cell_type": "markdown",
   "id": "c8cb4417",
   "metadata": {},
   "source": [
    ">Se tienen 21525 observaciones, cuyas características son:\n",
    "\n",
    "- `children` - el número de hijos en la familia\n",
    "- `days_employed` - experiencia laboral en días\n",
    "- `dob_years` - la edad del cliente en años\n",
    "- `education` - la educación del cliente\n",
    "- `education_id` - identificador de educación\n",
    "- `family_status` - estado civil\n",
    "- `family_status_id` - identificador de estado civil\n",
    "- `gender` - género del cliente\n",
    "- `income_type` - tipo de empleo\n",
    "- `debt` - ¿había alguna deuda en el pago de un préstamo?\n",
    "- `total_income` - ingreso mensual\n",
    "- `purpose` - el propósito de obtener un préstamo"
   ]
  },
  {
   "cell_type": "code",
   "execution_count": 4,
   "id": "fdf254d6",
   "metadata": {
    "scrolled": true
   },
   "outputs": [
    {
     "data": {
      "text/html": [
       "<div>\n",
       "<style scoped>\n",
       "    .dataframe tbody tr th:only-of-type {\n",
       "        vertical-align: middle;\n",
       "    }\n",
       "\n",
       "    .dataframe tbody tr th {\n",
       "        vertical-align: top;\n",
       "    }\n",
       "\n",
       "    .dataframe thead th {\n",
       "        text-align: right;\n",
       "    }\n",
       "</style>\n",
       "<table border=\"1\" class=\"dataframe\">\n",
       "  <thead>\n",
       "    <tr style=\"text-align: right;\">\n",
       "      <th></th>\n",
       "      <th>children</th>\n",
       "      <th>days_employed</th>\n",
       "      <th>dob_years</th>\n",
       "      <th>education</th>\n",
       "      <th>education_id</th>\n",
       "      <th>family_status</th>\n",
       "      <th>family_status_id</th>\n",
       "      <th>gender</th>\n",
       "      <th>income_type</th>\n",
       "      <th>debt</th>\n",
       "      <th>total_income</th>\n",
       "      <th>purpose</th>\n",
       "    </tr>\n",
       "  </thead>\n",
       "  <tbody>\n",
       "    <tr>\n",
       "      <th>0</th>\n",
       "      <td>1</td>\n",
       "      <td>-8437.673028</td>\n",
       "      <td>42</td>\n",
       "      <td>bachelor's degree</td>\n",
       "      <td>0</td>\n",
       "      <td>married</td>\n",
       "      <td>0</td>\n",
       "      <td>F</td>\n",
       "      <td>employee</td>\n",
       "      <td>0</td>\n",
       "      <td>40620.102</td>\n",
       "      <td>purchase of the house</td>\n",
       "    </tr>\n",
       "    <tr>\n",
       "      <th>1</th>\n",
       "      <td>1</td>\n",
       "      <td>-4024.803754</td>\n",
       "      <td>36</td>\n",
       "      <td>secondary education</td>\n",
       "      <td>1</td>\n",
       "      <td>married</td>\n",
       "      <td>0</td>\n",
       "      <td>F</td>\n",
       "      <td>employee</td>\n",
       "      <td>0</td>\n",
       "      <td>17932.802</td>\n",
       "      <td>car purchase</td>\n",
       "    </tr>\n",
       "    <tr>\n",
       "      <th>2</th>\n",
       "      <td>0</td>\n",
       "      <td>-5623.422610</td>\n",
       "      <td>33</td>\n",
       "      <td>Secondary Education</td>\n",
       "      <td>1</td>\n",
       "      <td>married</td>\n",
       "      <td>0</td>\n",
       "      <td>M</td>\n",
       "      <td>employee</td>\n",
       "      <td>0</td>\n",
       "      <td>23341.752</td>\n",
       "      <td>purchase of the house</td>\n",
       "    </tr>\n",
       "    <tr>\n",
       "      <th>3</th>\n",
       "      <td>3</td>\n",
       "      <td>-4124.747207</td>\n",
       "      <td>32</td>\n",
       "      <td>secondary education</td>\n",
       "      <td>1</td>\n",
       "      <td>married</td>\n",
       "      <td>0</td>\n",
       "      <td>M</td>\n",
       "      <td>employee</td>\n",
       "      <td>0</td>\n",
       "      <td>42820.568</td>\n",
       "      <td>supplementary education</td>\n",
       "    </tr>\n",
       "    <tr>\n",
       "      <th>4</th>\n",
       "      <td>0</td>\n",
       "      <td>340266.072047</td>\n",
       "      <td>53</td>\n",
       "      <td>secondary education</td>\n",
       "      <td>1</td>\n",
       "      <td>civil partnership</td>\n",
       "      <td>1</td>\n",
       "      <td>F</td>\n",
       "      <td>retiree</td>\n",
       "      <td>0</td>\n",
       "      <td>25378.572</td>\n",
       "      <td>to have a wedding</td>\n",
       "    </tr>\n",
       "    <tr>\n",
       "      <th>5</th>\n",
       "      <td>0</td>\n",
       "      <td>-926.185831</td>\n",
       "      <td>27</td>\n",
       "      <td>bachelor's degree</td>\n",
       "      <td>0</td>\n",
       "      <td>civil partnership</td>\n",
       "      <td>1</td>\n",
       "      <td>M</td>\n",
       "      <td>business</td>\n",
       "      <td>0</td>\n",
       "      <td>40922.170</td>\n",
       "      <td>purchase of the house</td>\n",
       "    </tr>\n",
       "    <tr>\n",
       "      <th>6</th>\n",
       "      <td>0</td>\n",
       "      <td>-2879.202052</td>\n",
       "      <td>43</td>\n",
       "      <td>bachelor's degree</td>\n",
       "      <td>0</td>\n",
       "      <td>married</td>\n",
       "      <td>0</td>\n",
       "      <td>F</td>\n",
       "      <td>business</td>\n",
       "      <td>0</td>\n",
       "      <td>38484.156</td>\n",
       "      <td>housing transactions</td>\n",
       "    </tr>\n",
       "    <tr>\n",
       "      <th>7</th>\n",
       "      <td>0</td>\n",
       "      <td>-152.779569</td>\n",
       "      <td>50</td>\n",
       "      <td>SECONDARY EDUCATION</td>\n",
       "      <td>1</td>\n",
       "      <td>married</td>\n",
       "      <td>0</td>\n",
       "      <td>M</td>\n",
       "      <td>employee</td>\n",
       "      <td>0</td>\n",
       "      <td>21731.829</td>\n",
       "      <td>education</td>\n",
       "    </tr>\n",
       "    <tr>\n",
       "      <th>8</th>\n",
       "      <td>2</td>\n",
       "      <td>-6929.865299</td>\n",
       "      <td>35</td>\n",
       "      <td>BACHELOR'S DEGREE</td>\n",
       "      <td>0</td>\n",
       "      <td>civil partnership</td>\n",
       "      <td>1</td>\n",
       "      <td>F</td>\n",
       "      <td>employee</td>\n",
       "      <td>0</td>\n",
       "      <td>15337.093</td>\n",
       "      <td>having a wedding</td>\n",
       "    </tr>\n",
       "    <tr>\n",
       "      <th>9</th>\n",
       "      <td>0</td>\n",
       "      <td>-2188.756445</td>\n",
       "      <td>41</td>\n",
       "      <td>secondary education</td>\n",
       "      <td>1</td>\n",
       "      <td>married</td>\n",
       "      <td>0</td>\n",
       "      <td>M</td>\n",
       "      <td>employee</td>\n",
       "      <td>0</td>\n",
       "      <td>23108.150</td>\n",
       "      <td>purchase of the house for my family</td>\n",
       "    </tr>\n",
       "  </tbody>\n",
       "</table>\n",
       "</div>"
      ],
      "text/plain": [
       "   children  days_employed  dob_years            education  education_id  \\\n",
       "0         1   -8437.673028         42    bachelor's degree             0   \n",
       "1         1   -4024.803754         36  secondary education             1   \n",
       "2         0   -5623.422610         33  Secondary Education             1   \n",
       "3         3   -4124.747207         32  secondary education             1   \n",
       "4         0  340266.072047         53  secondary education             1   \n",
       "5         0    -926.185831         27    bachelor's degree             0   \n",
       "6         0   -2879.202052         43    bachelor's degree             0   \n",
       "7         0    -152.779569         50  SECONDARY EDUCATION             1   \n",
       "8         2   -6929.865299         35    BACHELOR'S DEGREE             0   \n",
       "9         0   -2188.756445         41  secondary education             1   \n",
       "\n",
       "       family_status  family_status_id gender income_type  debt  total_income  \\\n",
       "0            married                 0      F    employee     0     40620.102   \n",
       "1            married                 0      F    employee     0     17932.802   \n",
       "2            married                 0      M    employee     0     23341.752   \n",
       "3            married                 0      M    employee     0     42820.568   \n",
       "4  civil partnership                 1      F     retiree     0     25378.572   \n",
       "5  civil partnership                 1      M    business     0     40922.170   \n",
       "6            married                 0      F    business     0     38484.156   \n",
       "7            married                 0      M    employee     0     21731.829   \n",
       "8  civil partnership                 1      F    employee     0     15337.093   \n",
       "9            married                 0      M    employee     0     23108.150   \n",
       "\n",
       "                               purpose  \n",
       "0                purchase of the house  \n",
       "1                         car purchase  \n",
       "2                purchase of the house  \n",
       "3              supplementary education  \n",
       "4                    to have a wedding  \n",
       "5                purchase of the house  \n",
       "6                 housing transactions  \n",
       "7                            education  \n",
       "8                     having a wedding  \n",
       "9  purchase of the house for my family  "
      ]
     },
     "execution_count": 4,
     "metadata": {},
     "output_type": "execute_result"
    }
   ],
   "source": [
    "# un vistazo general al dataset\n",
    "\n",
    "credit.head(10)"
   ]
  },
  {
   "cell_type": "markdown",
   "id": "29ffe47b",
   "metadata": {},
   "source": [
    "***\n",
    "> **Observaciones**\n",
    ">* La columna **days_employed** contiene números negativos. Se cambiará a **years_employed** ya que es una mejor métrica.\n",
    ">* El nombre de la columna **dob_years** es ambiguo. Se cambiará a **age**, además que contiene muchos valores únicos que pueden categorizarse.\n",
    ">* Dado el orden de magnitud de las columnas **days_employed** y **total_income**, éstas contienen decimales innecesarios.\n",
    ">* La columna **education** contiene entradas que son la misma, pero escrita diferente (e.g., \"secondary education\", \"SECONDARY EDUCATION\", \"Secondary Education\").\n",
    ">* Los valores de la columna **total_income** se cambiarán a miles de dólares. Además, se categorizará para un mejor análisis.\n",
    ">* La columna **purchase** al parecer contiene muchos valores únicos que pueden categorizarse (e.g., \"purchase of the house\" y \"purchase of the house for my family\").\n",
    "***"
   ]
  },
  {
   "cell_type": "markdown",
   "id": "21d9b0d7",
   "metadata": {},
   "source": [
    "***\n",
    ">Se procederá a aplicar lo mencionado en el apartado de observaciones, que son detalles mínimos para tener una tabla más limpia."
   ]
  },
  {
   "cell_type": "code",
   "execution_count": 5,
   "id": "48a8f5c4",
   "metadata": {},
   "outputs": [],
   "source": [
    "# renombrar las columnas\n",
    "credit.rename(columns={'days_employed': 'years_employed', 'dob_years': 'age', 'total_income': 'total_income_(*1K)'},\n",
    "              inplace=True)\n",
    "\n",
    "# cambiar los valores negativos de la columna 'years_employed'\n",
    "credit['years_employed'] = credit['years_employed'].map(lambda x: np.around(np.abs(x/365),decimals=1),\n",
    "                                                        na_action='ignore')\n",
    "\n",
    "# cambiar los valores de la columna 'total_income' a miles de dólares\n",
    "credit['total_income_(*1K)'] = credit['total_income_(*1K)'].map(lambda x: int(x) / 1000,\n",
    "                                                        na_action='ignore')\n",
    "\n",
    "# reformatear todos los nombres de la columna 'education'\n",
    "credit['education'] = credit['education'].str.lower().str.replace('degree', '').str.replace('education', '')\n",
    "credit['education'] = credit['education'].str.replace(\"bachelor's\", 'bachelor').str.strip()"
   ]
  },
  {
   "cell_type": "code",
   "execution_count": 6,
   "id": "5d778801",
   "metadata": {},
   "outputs": [
    {
     "name": "stdout",
     "output_type": "stream",
     "text": [
      "<class 'pandas.core.frame.DataFrame'>\n",
      "RangeIndex: 21525 entries, 0 to 21524\n",
      "Data columns (total 15 columns):\n",
      " #   Column              Non-Null Count  Dtype  \n",
      "---  ------              --------------  -----  \n",
      " 0   children            21525 non-null  int64  \n",
      " 1   years_employed      19351 non-null  float64\n",
      " 2   age                 21525 non-null  int64  \n",
      " 3   age_id              21525 non-null  int64  \n",
      " 4   education           21525 non-null  object \n",
      " 5   education_id        21525 non-null  int64  \n",
      " 6   family_status       21525 non-null  object \n",
      " 7   family_status_id    21525 non-null  int64  \n",
      " 8   gender              21525 non-null  object \n",
      " 9   income_type         21525 non-null  object \n",
      " 10  debt                21525 non-null  int64  \n",
      " 11  total_income_(*1K)  19351 non-null  float64\n",
      " 12  total_income_id     21525 non-null  object \n",
      " 13  purpose             21525 non-null  object \n",
      " 14  purpose_id          21525 non-null  int64  \n",
      "dtypes: float64(2), int64(7), object(6)\n",
      "memory usage: 2.5+ MB\n"
     ]
    }
   ],
   "source": [
    "# definir funciones que categorizarán los valores de varias columnas\n",
    "\n",
    "def purpose_mapper(text):\n",
    "    \"\"\"\n",
    "    Se seleccionan palabras clave en la columna 'purpose'\n",
    "    Cada propósito cae dentro de alguna de las categorías mostradas en category_dict\n",
    "    \"\"\"\n",
    "    category_dict = {\n",
    "        'house': 0,\n",
    "        'wedding': 1,\n",
    "        'education': 2, 'university': 2, 'educated': 2,\n",
    "        'estate': 3,\n",
    "        'building': 4,\n",
    "        'car': 5, 'cars': 5,\n",
    "        'property': 6,\n",
    "        'housing': 7,\n",
    "    }\n",
    "    \n",
    "    for word in text.split():\n",
    "        if word in category_dict.keys():\n",
    "            return category_dict[word]\n",
    "    \n",
    "    \n",
    "def age_mapper(age):\n",
    "    \"\"\"\n",
    "    Se seleccionan estas categorías como representativas de la población\n",
    "    \"\"\"\n",
    "    \n",
    "    if 19 <= age <= 25:\n",
    "        return 0\n",
    "    if 25 < age <= 30:\n",
    "        return 1\n",
    "    if 30 < age <= 35:\n",
    "        return 2\n",
    "    if 35 < age <= 40:\n",
    "        return 3\n",
    "    if 40 < age <= 45:\n",
    "        return 4\n",
    "    if 45 < age <= 50:\n",
    "        return 5\n",
    "    if 50 < age <= 55:\n",
    "        return 6\n",
    "    if 55 < age <= 60:\n",
    "        return 7\n",
    "    if 60 < age:\n",
    "            return 8\n",
    "    return age\n",
    "    \n",
    "def total_income_mapper(income): # de acuerdo a salaryexplorer.com\n",
    "    \"\"\"\n",
    "    Se utilizó esta categorización basada en salaryexplorer.com\n",
    "    donde se muestra información de los salarios promedios\n",
    "    en los EEUU\n",
    "    \"\"\"\n",
    "    if income <= 37.6:\n",
    "        return 'low'\n",
    "    if 37.6 < income <= 168:\n",
    "        return 'average'\n",
    "    \n",
    "    return 'high' \n",
    "\n",
    "# ----\n",
    "\n",
    "# creación de la columna 'purpose_id', que categoriza la columna 'purpose'\n",
    "credit['purpose_id'] = credit['purpose'].map(purpose_mapper)\n",
    "\n",
    "# creación de la columna 'age_id', que categoriza la columna 'age'\n",
    "age_id_column = credit['age'].map(age_mapper)\n",
    "credit.insert(3, 'age_id', age_id_column)\n",
    "\n",
    "# creación de la columna 'total_income_id', que categoriza la columna 'total_income'\n",
    "total_income_id_column = credit['total_income_(*1K)'].map(total_income_mapper)\n",
    "credit.insert(12, 'total_income_id', total_income_id_column)\n",
    "\n",
    "# muestra la información del dataset\n",
    "\n",
    "credit.info()"
   ]
  },
  {
   "cell_type": "markdown",
   "id": "7bd06c78",
   "metadata": {},
   "source": [
    "***\n",
    "> Se observa que las columnas **years_employed** y **total_income_(*1K)** son las únicas que contienen valores ausentes. Se analizará más a fondo para visualizar cómo abordarlos.\n",
    "***"
   ]
  },
  {
   "cell_type": "code",
   "execution_count": 7,
   "id": "77d32d8b",
   "metadata": {},
   "outputs": [
    {
     "name": "stdout",
     "output_type": "stream",
     "text": [
      "<class 'pandas.core.frame.DataFrame'>\n",
      "Int64Index: 2174 entries, 12 to 21510\n",
      "Data columns (total 15 columns):\n",
      " #   Column              Non-Null Count  Dtype  \n",
      "---  ------              --------------  -----  \n",
      " 0   children            2174 non-null   int64  \n",
      " 1   years_employed      0 non-null      float64\n",
      " 2   age                 2174 non-null   int64  \n",
      " 3   age_id              2174 non-null   int64  \n",
      " 4   education           2174 non-null   object \n",
      " 5   education_id        2174 non-null   int64  \n",
      " 6   family_status       2174 non-null   object \n",
      " 7   family_status_id    2174 non-null   int64  \n",
      " 8   gender              2174 non-null   object \n",
      " 9   income_type         2174 non-null   object \n",
      " 10  debt                2174 non-null   int64  \n",
      " 11  total_income_(*1K)  0 non-null      float64\n",
      " 12  total_income_id     2174 non-null   object \n",
      " 13  purpose             2174 non-null   object \n",
      " 14  purpose_id          2174 non-null   int64  \n",
      "dtypes: float64(2), int64(7), object(6)\n",
      "memory usage: 271.8+ KB\n"
     ]
    }
   ],
   "source": [
    "# creación de un subconjunto del dataset original, que contiene sólo las filas con datos ausentes\n",
    "\n",
    "credit_only_nan = credit[(credit['years_employed'].isnull()) & credit['total_income_(*1K)'].isnull()]\n",
    "credit_only_nan.info()"
   ]
  },
  {
   "cell_type": "markdown",
   "id": "22b2a79a",
   "metadata": {},
   "source": [
    "***\n",
    ">Se observa que las filas en las que **years_employed** tiene valores ausentes, son las mismas filas en las que **total_income** tiene valores ausentes. Esto sugiere la posible existencia de un patrón. Primero, se analizará cuanto porcentaje del dataset original representa el subset de las observaciones con valores ausentes.\n",
    "***"
   ]
  },
  {
   "cell_type": "code",
   "execution_count": 8,
   "id": "ef0e6834",
   "metadata": {},
   "outputs": [
    {
     "name": "stdout",
     "output_type": "stream",
     "text": [
      "El porcentaje de observaciones con valores ausentes es del 10.1%\n"
     ]
    }
   ],
   "source": [
    "nan_ratio = len(credit_only_nan) / len(credit)\n",
    "print(f'El porcentaje de observaciones con valores ausentes es del {nan_ratio:.1%}')"
   ]
  },
  {
   "cell_type": "markdown",
   "id": "7c226544",
   "metadata": {},
   "source": [
    "***\n",
    ">Dado que el porcentaje no es tan significativo, se procederá a analizar si existe algún patrón en las observaciones con los valores ausentes para decidir cómo abordarlos.\n",
    "***"
   ]
  },
  {
   "cell_type": "code",
   "execution_count": 9,
   "id": "6b781718",
   "metadata": {},
   "outputs": [
    {
     "data": {
      "text/plain": [
       " 0     1439\n",
       " 1      475\n",
       " 2      204\n",
       " 3       36\n",
       " 20       9\n",
       " 4        7\n",
       "-1        3\n",
       " 5        1\n",
       "Name: children, dtype: int64"
      ]
     },
     "execution_count": 9,
     "metadata": {},
     "output_type": "execute_result"
    }
   ],
   "source": [
    "# realizar un conteo sobre la columna 'children'\n",
    "\n",
    "credit_only_nan['children'].value_counts()"
   ]
  },
  {
   "cell_type": "markdown",
   "id": "d9e4b59c",
   "metadata": {},
   "source": [
    "***\n",
    ">La mayoría de observaciones en este subconjunto del dataset original, pertenece a usuarios que no tienen hijos.\n",
    "***"
   ]
  },
  {
   "cell_type": "code",
   "execution_count": 10,
   "id": "6668ec11",
   "metadata": {},
   "outputs": [
    {
     "data": {
      "text/plain": [
       "secondary       1540\n",
       "bachelor         544\n",
       "some college      69\n",
       "primary           21\n",
       "Name: education, dtype: int64"
      ]
     },
     "execution_count": 10,
     "metadata": {},
     "output_type": "execute_result"
    }
   ],
   "source": [
    "# realizar un conteo sobre la columna 'education'\n",
    "\n",
    "credit_only_nan['education'].value_counts()"
   ]
  },
  {
   "cell_type": "markdown",
   "id": "5469026a",
   "metadata": {},
   "source": [
    "***\n",
    ">El factor educación parece ser más confiable. Si la educación del usuario es Secundaria, tal vez eso explica que no haya contastado las cuestiones sobre su antigüedad laboral y su salario, pues tal vez su trabajo no es muy estable, y su salario no muy alto.\n",
    "***"
   ]
  },
  {
   "cell_type": "code",
   "execution_count": 11,
   "id": "db7e03ee",
   "metadata": {},
   "outputs": [
    {
     "data": {
      "text/plain": [
       "3    287\n",
       "2    286\n",
       "4    268\n",
       "5    254\n",
       "6    250\n",
       "7    239\n",
       "1    236\n",
       "8    223\n",
       "0    131\n",
       "Name: age_id, dtype: int64"
      ]
     },
     "execution_count": 11,
     "metadata": {},
     "output_type": "execute_result"
    }
   ],
   "source": [
    "# realizar un conteo sobre la columna 'age_id'\n",
    "\n",
    "credit_only_nan['age_id'].value_counts()"
   ]
  },
  {
   "cell_type": "markdown",
   "id": "119646e5",
   "metadata": {},
   "source": [
    "***\n",
    ">La mayoría de los usuarios se encuentran en un rango de edad entre los 26 y 50 años. Eso es de esperarse, ya que los menores de edad y los adultos mayores no suelen pedir prestamos tan frecuentemente. Esta característica no parece ser relevante para encontran el patrón que buscamos.\n",
    "***"
   ]
  },
  {
   "cell_type": "code",
   "execution_count": 12,
   "id": "e06a6b01",
   "metadata": {},
   "outputs": [
    {
     "data": {
      "text/plain": [
       "0    1237\n",
       "1     442\n",
       "4     288\n",
       "3     112\n",
       "2      95\n",
       "Name: family_status_id, dtype: int64"
      ]
     },
     "execution_count": 12,
     "metadata": {},
     "output_type": "execute_result"
    }
   ],
   "source": [
    "# realizar un conteo sobre la columna 'family_status_id'\n",
    "\n",
    "credit_only_nan['family_status_id'].value_counts()"
   ]
  },
  {
   "cell_type": "markdown",
   "id": "14c759cb",
   "metadata": {},
   "source": [
    "***\n",
    ">La mayoría de los usuarios son casados. Esto puede influir en la falta de respuestas a las features de interés.\n",
    "***"
   ]
  },
  {
   "cell_type": "code",
   "execution_count": 13,
   "id": "17a54148",
   "metadata": {},
   "outputs": [
    {
     "data": {
      "text/plain": [
       "F    1484\n",
       "M     690\n",
       "Name: gender, dtype: int64"
      ]
     },
     "execution_count": 13,
     "metadata": {},
     "output_type": "execute_result"
    }
   ],
   "source": [
    "# realizar un conteo sobre la columna 'gender'\n",
    "\n",
    "credit_only_nan['gender'].value_counts()"
   ]
  },
  {
   "cell_type": "markdown",
   "id": "71fbe59c",
   "metadata": {},
   "source": [
    "***\n",
    ">La mayoría de los usuarios son mujeres.\n",
    "***"
   ]
  },
  {
   "cell_type": "code",
   "execution_count": 14,
   "id": "b78dc946",
   "metadata": {},
   "outputs": [
    {
     "data": {
      "text/plain": [
       "employee         1105\n",
       "business          508\n",
       "retiree           413\n",
       "civil servant     147\n",
       "entrepreneur        1\n",
       "Name: income_type, dtype: int64"
      ]
     },
     "execution_count": 14,
     "metadata": {},
     "output_type": "execute_result"
    }
   ],
   "source": [
    "# realizar un conteo sobre la columna 'income_type'\n",
    "\n",
    "credit_only_nan['income_type'].value_counts()"
   ]
  },
  {
   "cell_type": "markdown",
   "id": "6a279278",
   "metadata": {},
   "source": [
    "***\n",
    ">La mayoría de los usuarios son empleados.\n",
    "***"
   ]
  },
  {
   "cell_type": "code",
   "execution_count": 15,
   "id": "8bfffcaa",
   "metadata": {},
   "outputs": [
    {
     "data": {
      "text/plain": [
       "0    2004\n",
       "1     170\n",
       "Name: debt, dtype: int64"
      ]
     },
     "execution_count": 15,
     "metadata": {},
     "output_type": "execute_result"
    }
   ],
   "source": [
    "# realizar un conteo sobre la columna 'debt'\n",
    "\n",
    "credit_only_nan['debt'].value_counts()"
   ]
  },
  {
   "cell_type": "markdown",
   "id": "d12f69dd",
   "metadata": {},
   "source": [
    "***\n",
    ">La mayoría de los usuarios no tienen una deuda.\n",
    "***"
   ]
  },
  {
   "cell_type": "code",
   "execution_count": 16,
   "id": "bfd1a008",
   "metadata": {},
   "outputs": [
    {
     "data": {
      "text/plain": [
       "2    425\n",
       "5    418\n",
       "3    402\n",
       "1    249\n",
       "7    204\n",
       "6    202\n",
       "0    169\n",
       "4    105\n",
       "Name: purpose_id, dtype: int64"
      ]
     },
     "execution_count": 16,
     "metadata": {},
     "output_type": "execute_result"
    }
   ],
   "source": [
    "# realizar un conteo sobre la columna 'purpose_id'\n",
    "\n",
    "credit_only_nan['purpose_id'].value_counts()"
   ]
  },
  {
   "cell_type": "markdown",
   "id": "38822b19",
   "metadata": {},
   "source": [
    "***\n",
    ">Los 3 primeros lugares de esta característica, pertenecen a usuarios que quieren invertir en su real estate, su educación, o en un auto. Sin embargo, no se observan diferencias significativas.\n",
    "***"
   ]
  },
  {
   "cell_type": "markdown",
   "id": "e3ce76b4",
   "metadata": {},
   "source": [
    ">**Conclusiones intermedias**\n",
    "\n",
    ">Las observaciones que contienen valores ausentes en las características **years_employed** y **total_income** pertenecen en su mayoría a personas que:\n",
    ">* Tienen sólo Educación Secundaria\n",
    ">* Son casadas\n",
    ">* No tienen hijos\n",
    ">* Son mujeres\n",
    ">* Tienen empleo\n",
    ">* Tienen entre 26 y 50 años\n",
    ">* No tienen aduedo\n",
    "\n",
    "> Estas conclusiones se tomarán en cuenta para reemplazar los valores ausentes. Pero primero, se inspeccionarán las columnas para encontrar irregularidades."
   ]
  },
  {
   "cell_type": "markdown",
   "id": "16d2b56a",
   "metadata": {},
   "source": [
    "> ### Análisis de las columnas del dataset"
   ]
  },
  {
   "cell_type": "markdown",
   "id": "55655616",
   "metadata": {},
   "source": [
    "> #### Columna 'children'"
   ]
  },
  {
   "cell_type": "code",
   "execution_count": 17,
   "id": "0a5e0ce7",
   "metadata": {},
   "outputs": [
    {
     "data": {
      "text/plain": [
       " 0     14149\n",
       " 1      4818\n",
       " 2      2055\n",
       " 3       330\n",
       " 20       76\n",
       "-1        47\n",
       " 4        41\n",
       " 5         9\n",
       "Name: children, dtype: int64"
      ]
     },
     "execution_count": 17,
     "metadata": {},
     "output_type": "execute_result"
    }
   ],
   "source": [
    "credit['children'].value_counts()"
   ]
  },
  {
   "cell_type": "markdown",
   "id": "f4aafdc9",
   "metadata": {},
   "source": [
    "***\n",
    ">Al parecer hubo un error al registrar usuarios con 20 y -1 hijos. La cantidad de estos errores es mínima, por lo que se substituirá 20 por 2, y -1 por 1, dado que parece un simple error humano.\n",
    "***"
   ]
  },
  {
   "cell_type": "code",
   "execution_count": 18,
   "id": "ae7935dd",
   "metadata": {},
   "outputs": [
    {
     "data": {
      "text/plain": [
       "0    14149\n",
       "1     4865\n",
       "2     2131\n",
       "3      330\n",
       "4       41\n",
       "5        9\n",
       "Name: children, dtype: int64"
      ]
     },
     "execution_count": 18,
     "metadata": {},
     "output_type": "execute_result"
    }
   ],
   "source": [
    "credit['children'].replace({20:2, -1:1}, inplace=True)\n",
    "credit['children'].value_counts()"
   ]
  },
  {
   "cell_type": "markdown",
   "id": "5d4cb0a0",
   "metadata": {},
   "source": [
    "> #### Columna 'years_employed'"
   ]
  },
  {
   "cell_type": "code",
   "execution_count": 19,
   "id": "49f0f8d8",
   "metadata": {},
   "outputs": [
    {
     "data": {
      "text/plain": [
       "0.6       297\n",
       "0.5       257\n",
       "1.2       231\n",
       "0.7       231\n",
       "0.3       226\n",
       "         ... \n",
       "988.9       1\n",
       "1090.1      1\n",
       "951.4       1\n",
       "1029.2      1\n",
       "943.6       1\n",
       "Name: years_employed, Length: 2024, dtype: int64"
      ]
     },
     "execution_count": 19,
     "metadata": {},
     "output_type": "execute_result"
    }
   ],
   "source": [
    "credit['years_employed'].value_counts()"
   ]
  },
  {
   "cell_type": "markdown",
   "id": "9dca6456",
   "metadata": {},
   "source": [
    "***\n",
    ">Al parecer existen varios errores al considerar valores muy atípicos para esta columna. Se procederá a investigar más a fondo.\n",
    "***"
   ]
  },
  {
   "cell_type": "code",
   "execution_count": 20,
   "id": "700806a0",
   "metadata": {},
   "outputs": [
    {
     "data": {
      "text/html": [
       "<div>\n",
       "<style scoped>\n",
       "    .dataframe tbody tr th:only-of-type {\n",
       "        vertical-align: middle;\n",
       "    }\n",
       "\n",
       "    .dataframe tbody tr th {\n",
       "        vertical-align: top;\n",
       "    }\n",
       "\n",
       "    .dataframe thead th {\n",
       "        text-align: right;\n",
       "    }\n",
       "</style>\n",
       "<table border=\"1\" class=\"dataframe\">\n",
       "  <thead>\n",
       "    <tr style=\"text-align: right;\">\n",
       "      <th></th>\n",
       "      <th>children</th>\n",
       "      <th>years_employed</th>\n",
       "      <th>age</th>\n",
       "      <th>age_id</th>\n",
       "      <th>education</th>\n",
       "      <th>education_id</th>\n",
       "      <th>family_status</th>\n",
       "      <th>family_status_id</th>\n",
       "      <th>gender</th>\n",
       "      <th>income_type</th>\n",
       "      <th>debt</th>\n",
       "      <th>total_income_(*1K)</th>\n",
       "      <th>total_income_id</th>\n",
       "      <th>purpose</th>\n",
       "      <th>purpose_id</th>\n",
       "    </tr>\n",
       "  </thead>\n",
       "  <tbody>\n",
       "    <tr>\n",
       "      <th>4</th>\n",
       "      <td>0</td>\n",
       "      <td>932.2</td>\n",
       "      <td>53</td>\n",
       "      <td>6</td>\n",
       "      <td>secondary</td>\n",
       "      <td>1</td>\n",
       "      <td>civil partnership</td>\n",
       "      <td>1</td>\n",
       "      <td>F</td>\n",
       "      <td>retiree</td>\n",
       "      <td>0</td>\n",
       "      <td>25.378</td>\n",
       "      <td>low</td>\n",
       "      <td>to have a wedding</td>\n",
       "      <td>1</td>\n",
       "    </tr>\n",
       "    <tr>\n",
       "      <th>18</th>\n",
       "      <td>0</td>\n",
       "      <td>1096.7</td>\n",
       "      <td>53</td>\n",
       "      <td>6</td>\n",
       "      <td>secondary</td>\n",
       "      <td>1</td>\n",
       "      <td>widow / widower</td>\n",
       "      <td>2</td>\n",
       "      <td>F</td>\n",
       "      <td>retiree</td>\n",
       "      <td>0</td>\n",
       "      <td>9.091</td>\n",
       "      <td>low</td>\n",
       "      <td>buying a second-hand car</td>\n",
       "      <td>5</td>\n",
       "    </tr>\n",
       "    <tr>\n",
       "      <th>24</th>\n",
       "      <td>1</td>\n",
       "      <td>927.5</td>\n",
       "      <td>57</td>\n",
       "      <td>7</td>\n",
       "      <td>secondary</td>\n",
       "      <td>1</td>\n",
       "      <td>unmarried</td>\n",
       "      <td>4</td>\n",
       "      <td>F</td>\n",
       "      <td>retiree</td>\n",
       "      <td>0</td>\n",
       "      <td>46.487</td>\n",
       "      <td>average</td>\n",
       "      <td>transactions with commercial real estate</td>\n",
       "      <td>3</td>\n",
       "    </tr>\n",
       "    <tr>\n",
       "      <th>25</th>\n",
       "      <td>0</td>\n",
       "      <td>996.0</td>\n",
       "      <td>67</td>\n",
       "      <td>8</td>\n",
       "      <td>secondary</td>\n",
       "      <td>1</td>\n",
       "      <td>married</td>\n",
       "      <td>0</td>\n",
       "      <td>M</td>\n",
       "      <td>retiree</td>\n",
       "      <td>0</td>\n",
       "      <td>8.818</td>\n",
       "      <td>low</td>\n",
       "      <td>buy real estate</td>\n",
       "      <td>3</td>\n",
       "    </tr>\n",
       "    <tr>\n",
       "      <th>30</th>\n",
       "      <td>1</td>\n",
       "      <td>919.4</td>\n",
       "      <td>62</td>\n",
       "      <td>8</td>\n",
       "      <td>secondary</td>\n",
       "      <td>1</td>\n",
       "      <td>married</td>\n",
       "      <td>0</td>\n",
       "      <td>F</td>\n",
       "      <td>retiree</td>\n",
       "      <td>0</td>\n",
       "      <td>27.432</td>\n",
       "      <td>low</td>\n",
       "      <td>transactions with commercial real estate</td>\n",
       "      <td>3</td>\n",
       "    </tr>\n",
       "    <tr>\n",
       "      <th>...</th>\n",
       "      <td>...</td>\n",
       "      <td>...</td>\n",
       "      <td>...</td>\n",
       "      <td>...</td>\n",
       "      <td>...</td>\n",
       "      <td>...</td>\n",
       "      <td>...</td>\n",
       "      <td>...</td>\n",
       "      <td>...</td>\n",
       "      <td>...</td>\n",
       "      <td>...</td>\n",
       "      <td>...</td>\n",
       "      <td>...</td>\n",
       "      <td>...</td>\n",
       "      <td>...</td>\n",
       "    </tr>\n",
       "    <tr>\n",
       "      <th>21505</th>\n",
       "      <td>0</td>\n",
       "      <td>928.5</td>\n",
       "      <td>53</td>\n",
       "      <td>6</td>\n",
       "      <td>secondary</td>\n",
       "      <td>1</td>\n",
       "      <td>civil partnership</td>\n",
       "      <td>1</td>\n",
       "      <td>M</td>\n",
       "      <td>retiree</td>\n",
       "      <td>0</td>\n",
       "      <td>12.070</td>\n",
       "      <td>low</td>\n",
       "      <td>to have a wedding</td>\n",
       "      <td>1</td>\n",
       "    </tr>\n",
       "    <tr>\n",
       "      <th>21508</th>\n",
       "      <td>0</td>\n",
       "      <td>1058.9</td>\n",
       "      <td>62</td>\n",
       "      <td>8</td>\n",
       "      <td>secondary</td>\n",
       "      <td>1</td>\n",
       "      <td>married</td>\n",
       "      <td>0</td>\n",
       "      <td>M</td>\n",
       "      <td>retiree</td>\n",
       "      <td>0</td>\n",
       "      <td>11.622</td>\n",
       "      <td>low</td>\n",
       "      <td>property</td>\n",
       "      <td>6</td>\n",
       "    </tr>\n",
       "    <tr>\n",
       "      <th>21509</th>\n",
       "      <td>0</td>\n",
       "      <td>992.2</td>\n",
       "      <td>59</td>\n",
       "      <td>7</td>\n",
       "      <td>bachelor</td>\n",
       "      <td>0</td>\n",
       "      <td>married</td>\n",
       "      <td>0</td>\n",
       "      <td>M</td>\n",
       "      <td>retiree</td>\n",
       "      <td>0</td>\n",
       "      <td>11.684</td>\n",
       "      <td>low</td>\n",
       "      <td>real estate transactions</td>\n",
       "      <td>3</td>\n",
       "    </tr>\n",
       "    <tr>\n",
       "      <th>21518</th>\n",
       "      <td>0</td>\n",
       "      <td>1024.6</td>\n",
       "      <td>59</td>\n",
       "      <td>7</td>\n",
       "      <td>secondary</td>\n",
       "      <td>1</td>\n",
       "      <td>married</td>\n",
       "      <td>0</td>\n",
       "      <td>F</td>\n",
       "      <td>retiree</td>\n",
       "      <td>0</td>\n",
       "      <td>24.618</td>\n",
       "      <td>low</td>\n",
       "      <td>purchase of a car</td>\n",
       "      <td>5</td>\n",
       "    </tr>\n",
       "    <tr>\n",
       "      <th>21521</th>\n",
       "      <td>0</td>\n",
       "      <td>942.3</td>\n",
       "      <td>67</td>\n",
       "      <td>8</td>\n",
       "      <td>secondary</td>\n",
       "      <td>1</td>\n",
       "      <td>married</td>\n",
       "      <td>0</td>\n",
       "      <td>F</td>\n",
       "      <td>retiree</td>\n",
       "      <td>0</td>\n",
       "      <td>24.959</td>\n",
       "      <td>low</td>\n",
       "      <td>purchase of a car</td>\n",
       "      <td>5</td>\n",
       "    </tr>\n",
       "  </tbody>\n",
       "</table>\n",
       "<p>3448 rows × 15 columns</p>\n",
       "</div>"
      ],
      "text/plain": [
       "       children  years_employed  age  age_id  education  education_id  \\\n",
       "4             0           932.2   53       6  secondary             1   \n",
       "18            0          1096.7   53       6  secondary             1   \n",
       "24            1           927.5   57       7  secondary             1   \n",
       "25            0           996.0   67       8  secondary             1   \n",
       "30            1           919.4   62       8  secondary             1   \n",
       "...         ...             ...  ...     ...        ...           ...   \n",
       "21505         0           928.5   53       6  secondary             1   \n",
       "21508         0          1058.9   62       8  secondary             1   \n",
       "21509         0           992.2   59       7   bachelor             0   \n",
       "21518         0          1024.6   59       7  secondary             1   \n",
       "21521         0           942.3   67       8  secondary             1   \n",
       "\n",
       "           family_status  family_status_id gender income_type  debt  \\\n",
       "4      civil partnership                 1      F     retiree     0   \n",
       "18       widow / widower                 2      F     retiree     0   \n",
       "24             unmarried                 4      F     retiree     0   \n",
       "25               married                 0      M     retiree     0   \n",
       "30               married                 0      F     retiree     0   \n",
       "...                  ...               ...    ...         ...   ...   \n",
       "21505  civil partnership                 1      M     retiree     0   \n",
       "21508            married                 0      M     retiree     0   \n",
       "21509            married                 0      M     retiree     0   \n",
       "21518            married                 0      F     retiree     0   \n",
       "21521            married                 0      F     retiree     0   \n",
       "\n",
       "       total_income_(*1K) total_income_id  \\\n",
       "4                  25.378             low   \n",
       "18                  9.091             low   \n",
       "24                 46.487         average   \n",
       "25                  8.818             low   \n",
       "30                 27.432             low   \n",
       "...                   ...             ...   \n",
       "21505              12.070             low   \n",
       "21508              11.622             low   \n",
       "21509              11.684             low   \n",
       "21518              24.618             low   \n",
       "21521              24.959             low   \n",
       "\n",
       "                                        purpose  purpose_id  \n",
       "4                             to have a wedding           1  \n",
       "18                     buying a second-hand car           5  \n",
       "24     transactions with commercial real estate           3  \n",
       "25                              buy real estate           3  \n",
       "30     transactions with commercial real estate           3  \n",
       "...                                         ...         ...  \n",
       "21505                         to have a wedding           1  \n",
       "21508                                  property           6  \n",
       "21509                  real estate transactions           3  \n",
       "21518                         purchase of a car           5  \n",
       "21521                         purchase of a car           5  \n",
       "\n",
       "[3448 rows x 15 columns]"
      ]
     },
     "execution_count": 20,
     "metadata": {},
     "output_type": "execute_result"
    }
   ],
   "source": [
    "# analizar cuantos usuarios aparecen con más de 45 años de empleo.\n",
    "\n",
    "\n",
    "credit[(credit['years_employed'] > 45)]"
   ]
  },
  {
   "cell_type": "markdown",
   "id": "789a57f2",
   "metadata": {},
   "source": [
    "***\n",
    ">La cifra de observaciones con años totales trabajados mayores a 45 es alta. A simple vista, se observa que los usuarios parece que son retirados (retiree). Se analizará más a fondo.\n",
    "***"
   ]
  },
  {
   "cell_type": "code",
   "execution_count": 21,
   "id": "7211da85",
   "metadata": {},
   "outputs": [
    {
     "data": {
      "text/plain": [
       "3443"
      ]
     },
     "execution_count": 21,
     "metadata": {},
     "output_type": "execute_result"
    }
   ],
   "source": [
    "len(credit[(credit['years_employed'] > 45) & (credit['income_type'] == 'retiree')])"
   ]
  },
  {
   "cell_type": "markdown",
   "id": "9b314c33",
   "metadata": {},
   "source": [
    "***\n",
    ">De 3448 observaciones con valores de años trabajados atípicos, 3443 son retirados. Esto representa el 16% de las observaciones totales, lo cual es un porcentaje considerable con lo que se procederá a reemplazar esos valores atípicos.\n",
    "***"
   ]
  },
  {
   "cell_type": "markdown",
   "id": "4e50a20c",
   "metadata": {},
   "source": [
    "***\n",
    ">Para dicha tarea, lo ideal sería contar con información acerca de los usuarios retirados ('retiree'), para obtener la media de sus años laborados. Sin embargo, como se muestra a continuación, todos los retirados tienen valores atípicos, como se muestra a continuación.\n",
    "***"
   ]
  },
  {
   "cell_type": "code",
   "execution_count": 22,
   "id": "5d354006",
   "metadata": {},
   "outputs": [
    {
     "data": {
      "text/plain": [
       "0"
      ]
     },
     "execution_count": 22,
     "metadata": {},
     "output_type": "execute_result"
    }
   ],
   "source": [
    "# demostración de que no hay filas de usuarios retirados y que tengan menos de 100 años laborando\n",
    "\n",
    "len(credit[(credit['income_type'] == 'retiree') & (credit['years_employed'] < 100)])"
   ]
  },
  {
   "cell_type": "markdown",
   "id": "d5c4cd27",
   "metadata": {},
   "source": [
    ">Debido a esto, se analizarán los datos de los demás usuarios con valores atípicos que no son 'retiree'."
   ]
  },
  {
   "cell_type": "code",
   "execution_count": 23,
   "id": "3853898e",
   "metadata": {
    "scrolled": true
   },
   "outputs": [
    {
     "data": {
      "text/html": [
       "<div>\n",
       "<style scoped>\n",
       "    .dataframe tbody tr th:only-of-type {\n",
       "        vertical-align: middle;\n",
       "    }\n",
       "\n",
       "    .dataframe tbody tr th {\n",
       "        vertical-align: top;\n",
       "    }\n",
       "\n",
       "    .dataframe thead th {\n",
       "        text-align: right;\n",
       "    }\n",
       "</style>\n",
       "<table border=\"1\" class=\"dataframe\">\n",
       "  <thead>\n",
       "    <tr style=\"text-align: right;\">\n",
       "      <th></th>\n",
       "      <th>children</th>\n",
       "      <th>years_employed</th>\n",
       "      <th>age</th>\n",
       "      <th>age_id</th>\n",
       "      <th>education</th>\n",
       "      <th>education_id</th>\n",
       "      <th>family_status</th>\n",
       "      <th>family_status_id</th>\n",
       "      <th>gender</th>\n",
       "      <th>income_type</th>\n",
       "      <th>debt</th>\n",
       "      <th>total_income_(*1K)</th>\n",
       "      <th>total_income_id</th>\n",
       "      <th>purpose</th>\n",
       "      <th>purpose_id</th>\n",
       "    </tr>\n",
       "  </thead>\n",
       "  <tbody>\n",
       "    <tr>\n",
       "      <th>3133</th>\n",
       "      <td>1</td>\n",
       "      <td>924.7</td>\n",
       "      <td>31</td>\n",
       "      <td>2</td>\n",
       "      <td>secondary</td>\n",
       "      <td>1</td>\n",
       "      <td>married</td>\n",
       "      <td>0</td>\n",
       "      <td>M</td>\n",
       "      <td>unemployed</td>\n",
       "      <td>1</td>\n",
       "      <td>9.593</td>\n",
       "      <td>low</td>\n",
       "      <td>buying property for renting out</td>\n",
       "      <td>6</td>\n",
       "    </tr>\n",
       "    <tr>\n",
       "      <th>4299</th>\n",
       "      <td>0</td>\n",
       "      <td>48.3</td>\n",
       "      <td>61</td>\n",
       "      <td>8</td>\n",
       "      <td>secondary</td>\n",
       "      <td>1</td>\n",
       "      <td>married</td>\n",
       "      <td>0</td>\n",
       "      <td>F</td>\n",
       "      <td>business</td>\n",
       "      <td>0</td>\n",
       "      <td>19.609</td>\n",
       "      <td>low</td>\n",
       "      <td>purchase of the house</td>\n",
       "      <td>0</td>\n",
       "    </tr>\n",
       "    <tr>\n",
       "      <th>7329</th>\n",
       "      <td>0</td>\n",
       "      <td>45.5</td>\n",
       "      <td>60</td>\n",
       "      <td>7</td>\n",
       "      <td>bachelor</td>\n",
       "      <td>0</td>\n",
       "      <td>married</td>\n",
       "      <td>0</td>\n",
       "      <td>F</td>\n",
       "      <td>employee</td>\n",
       "      <td>0</td>\n",
       "      <td>19.951</td>\n",
       "      <td>low</td>\n",
       "      <td>going to university</td>\n",
       "      <td>2</td>\n",
       "    </tr>\n",
       "    <tr>\n",
       "      <th>14798</th>\n",
       "      <td>0</td>\n",
       "      <td>1083.0</td>\n",
       "      <td>45</td>\n",
       "      <td>4</td>\n",
       "      <td>bachelor</td>\n",
       "      <td>0</td>\n",
       "      <td>civil partnership</td>\n",
       "      <td>1</td>\n",
       "      <td>F</td>\n",
       "      <td>unemployed</td>\n",
       "      <td>0</td>\n",
       "      <td>32.435</td>\n",
       "      <td>low</td>\n",
       "      <td>housing renovation</td>\n",
       "      <td>7</td>\n",
       "    </tr>\n",
       "    <tr>\n",
       "      <th>16335</th>\n",
       "      <td>1</td>\n",
       "      <td>50.4</td>\n",
       "      <td>61</td>\n",
       "      <td>8</td>\n",
       "      <td>secondary</td>\n",
       "      <td>1</td>\n",
       "      <td>married</td>\n",
       "      <td>0</td>\n",
       "      <td>F</td>\n",
       "      <td>employee</td>\n",
       "      <td>0</td>\n",
       "      <td>29.788</td>\n",
       "      <td>low</td>\n",
       "      <td>real estate transactions</td>\n",
       "      <td>3</td>\n",
       "    </tr>\n",
       "  </tbody>\n",
       "</table>\n",
       "</div>"
      ],
      "text/plain": [
       "       children  years_employed  age  age_id  education  education_id  \\\n",
       "3133          1           924.7   31       2  secondary             1   \n",
       "4299          0            48.3   61       8  secondary             1   \n",
       "7329          0            45.5   60       7   bachelor             0   \n",
       "14798         0          1083.0   45       4   bachelor             0   \n",
       "16335         1            50.4   61       8  secondary             1   \n",
       "\n",
       "           family_status  family_status_id gender income_type  debt  \\\n",
       "3133             married                 0      M  unemployed     1   \n",
       "4299             married                 0      F    business     0   \n",
       "7329             married                 0      F    employee     0   \n",
       "14798  civil partnership                 1      F  unemployed     0   \n",
       "16335            married                 0      F    employee     0   \n",
       "\n",
       "       total_income_(*1K) total_income_id                          purpose  \\\n",
       "3133                9.593             low  buying property for renting out   \n",
       "4299               19.609             low            purchase of the house   \n",
       "7329               19.951             low              going to university   \n",
       "14798              32.435             low               housing renovation   \n",
       "16335              29.788             low         real estate transactions   \n",
       "\n",
       "       purpose_id  \n",
       "3133            6  \n",
       "4299            0  \n",
       "7329            2  \n",
       "14798           7  \n",
       "16335           3  "
      ]
     },
     "execution_count": 23,
     "metadata": {},
     "output_type": "execute_result"
    }
   ],
   "source": [
    "credit[(credit['years_employed'] > 45) & (credit['income_type'] != 'retiree')]"
   ]
  },
  {
   "cell_type": "markdown",
   "id": "e013e371",
   "metadata": {},
   "source": [
    "***\n",
    ">Descubrimos que en este subconjunto, hay 3 usuarios mayores de 60 años que tienen valores no atípicos para años laborados. Esto es, usuarios en edad de retiro cuyos años laborados podemos utilizar para reemplazar los datos de los 'retiree'. Notamos que la media en este caso es 48.1\n",
    "\n",
    ">Sin embargo, notemos que existe una entrada para un usuario de 31 años que tiene un valor atípico para los años laborados. En este caso, se utilizarán los datos de los otros usuarios de esa edad y con educación secundaria. Se calculará la media y se utilizará para reemplazar el valor atípico mencionado.\n",
    "***"
   ]
  },
  {
   "cell_type": "code",
   "execution_count": 24,
   "id": "b071e073",
   "metadata": {},
   "outputs": [
    {
     "data": {
      "text/plain": [
       "children                                            1\n",
       "years_employed                                    7.6\n",
       "age                                                31\n",
       "age_id                                              2\n",
       "education                                   secondary\n",
       "education_id                                        1\n",
       "family_status                                 married\n",
       "family_status_id                                    0\n",
       "gender                                              M\n",
       "income_type                                unemployed\n",
       "debt                                                1\n",
       "total_income_(*1K)                              9.593\n",
       "total_income_id                                   low\n",
       "purpose               buying property for renting out\n",
       "purpose_id                                          6\n",
       "Name: 3133, dtype: object"
      ]
     },
     "execution_count": 24,
     "metadata": {},
     "output_type": "execute_result"
    }
   ],
   "source": [
    "# obtener los datos filtrados\n",
    "\n",
    "aux_table = credit[(credit['age'] == 31) & (credit['education_id'] == 1)]\n",
    "\n",
    "# calcular la media\n",
    "\n",
    "mean_31_years_old = np.around(aux_table['years_employed'].mean(), decimals=1)\n",
    "\n",
    "# reemplazar el valor atípico por la media\n",
    "\n",
    "credit.at[3133, 'years_employed'] = mean_31_years_old\n",
    "credit.iloc[3133]"
   ]
  },
  {
   "cell_type": "markdown",
   "id": "badb2014",
   "metadata": {},
   "source": [
    "***\n",
    ">Ahora, se reemplazarán los valores atípicos restantes.\n",
    "\n",
    ">Primero, se investigará el rango de edades que se tiene para los usuarios con valores atípicos. En base a esas edades, se calcularán las medias de los usuarios que no tienen valores atípicos, para reemplazar los valores atípicos.\n",
    "***"
   ]
  },
  {
   "cell_type": "code",
   "execution_count": 25,
   "id": "32ccd803",
   "metadata": {},
   "outputs": [
    {
     "data": {
      "text/plain": [
       "59    254\n",
       "60    244\n",
       "62    235\n",
       "61    216\n",
       "57    212\n",
       "58    208\n",
       "63    192\n",
       "56    184\n",
       "64    179\n",
       "55    162\n",
       "54    145\n",
       "66    139\n",
       "65    136\n",
       "67    132\n",
       "53    105\n",
       "52     95\n",
       "68     80\n",
       "69     74\n",
       "51     73\n",
       "50     61\n",
       "70     54\n",
       "71     48\n",
       "49     30\n",
       "72     28\n",
       "48     20\n",
       "0      17\n",
       "46     13\n",
       "47     13\n",
       "45     11\n",
       "44     10\n",
       "42      9\n",
       "43      9\n",
       "38      8\n",
       "40      7\n",
       "73      6\n",
       "41      6\n",
       "37      5\n",
       "74      4\n",
       "39      4\n",
       "36      3\n",
       "34      3\n",
       "32      3\n",
       "27      3\n",
       "33      2\n",
       "26      2\n",
       "22      1\n",
       "35      1\n",
       "28      1\n",
       "Name: age, dtype: int64"
      ]
     },
     "execution_count": 25,
     "metadata": {},
     "output_type": "execute_result"
    }
   ],
   "source": [
    "credit[credit['years_employed'] > 45]['age'].value_counts()"
   ]
  },
  {
   "cell_type": "markdown",
   "id": "9a320113",
   "metadata": {},
   "source": [
    "***\n",
    ">Descubrimos ahora que existen usuarios con edades de retiro atípicas también. Investiguemos un poco más.\n",
    "***"
   ]
  },
  {
   "cell_type": "code",
   "execution_count": 26,
   "id": "f5cd3207",
   "metadata": {},
   "outputs": [
    {
     "data": {
      "text/html": [
       "<div>\n",
       "<style scoped>\n",
       "    .dataframe tbody tr th:only-of-type {\n",
       "        vertical-align: middle;\n",
       "    }\n",
       "\n",
       "    .dataframe tbody tr th {\n",
       "        vertical-align: top;\n",
       "    }\n",
       "\n",
       "    .dataframe thead th {\n",
       "        text-align: right;\n",
       "    }\n",
       "</style>\n",
       "<table border=\"1\" class=\"dataframe\">\n",
       "  <thead>\n",
       "    <tr style=\"text-align: right;\">\n",
       "      <th></th>\n",
       "      <th>children</th>\n",
       "      <th>years_employed</th>\n",
       "      <th>age</th>\n",
       "      <th>age_id</th>\n",
       "      <th>education</th>\n",
       "      <th>education_id</th>\n",
       "      <th>family_status</th>\n",
       "      <th>family_status_id</th>\n",
       "      <th>gender</th>\n",
       "      <th>income_type</th>\n",
       "      <th>debt</th>\n",
       "      <th>total_income_(*1K)</th>\n",
       "      <th>total_income_id</th>\n",
       "      <th>purpose</th>\n",
       "      <th>purpose_id</th>\n",
       "    </tr>\n",
       "  </thead>\n",
       "  <tbody>\n",
       "    <tr>\n",
       "      <th>99</th>\n",
       "      <td>0</td>\n",
       "      <td>949.4</td>\n",
       "      <td>0</td>\n",
       "      <td>0</td>\n",
       "      <td>secondary</td>\n",
       "      <td>1</td>\n",
       "      <td>married</td>\n",
       "      <td>0</td>\n",
       "      <td>F</td>\n",
       "      <td>retiree</td>\n",
       "      <td>0</td>\n",
       "      <td>11.406</td>\n",
       "      <td>low</td>\n",
       "      <td>car</td>\n",
       "      <td>5</td>\n",
       "    </tr>\n",
       "    <tr>\n",
       "      <th>157</th>\n",
       "      <td>0</td>\n",
       "      <td>954.6</td>\n",
       "      <td>38</td>\n",
       "      <td>3</td>\n",
       "      <td>secondary</td>\n",
       "      <td>1</td>\n",
       "      <td>married</td>\n",
       "      <td>0</td>\n",
       "      <td>F</td>\n",
       "      <td>retiree</td>\n",
       "      <td>1</td>\n",
       "      <td>18.169</td>\n",
       "      <td>low</td>\n",
       "      <td>purchase of a car</td>\n",
       "      <td>5</td>\n",
       "    </tr>\n",
       "    <tr>\n",
       "      <th>311</th>\n",
       "      <td>0</td>\n",
       "      <td>970.5</td>\n",
       "      <td>44</td>\n",
       "      <td>4</td>\n",
       "      <td>secondary</td>\n",
       "      <td>1</td>\n",
       "      <td>married</td>\n",
       "      <td>0</td>\n",
       "      <td>F</td>\n",
       "      <td>retiree</td>\n",
       "      <td>0</td>\n",
       "      <td>7.593</td>\n",
       "      <td>low</td>\n",
       "      <td>going to university</td>\n",
       "      <td>2</td>\n",
       "    </tr>\n",
       "    <tr>\n",
       "      <th>388</th>\n",
       "      <td>0</td>\n",
       "      <td>991.6</td>\n",
       "      <td>49</td>\n",
       "      <td>5</td>\n",
       "      <td>bachelor</td>\n",
       "      <td>0</td>\n",
       "      <td>unmarried</td>\n",
       "      <td>4</td>\n",
       "      <td>F</td>\n",
       "      <td>retiree</td>\n",
       "      <td>0</td>\n",
       "      <td>46.431</td>\n",
       "      <td>average</td>\n",
       "      <td>cars</td>\n",
       "      <td>5</td>\n",
       "    </tr>\n",
       "    <tr>\n",
       "      <th>512</th>\n",
       "      <td>1</td>\n",
       "      <td>1087.7</td>\n",
       "      <td>46</td>\n",
       "      <td>5</td>\n",
       "      <td>secondary</td>\n",
       "      <td>1</td>\n",
       "      <td>married</td>\n",
       "      <td>0</td>\n",
       "      <td>F</td>\n",
       "      <td>retiree</td>\n",
       "      <td>0</td>\n",
       "      <td>30.672</td>\n",
       "      <td>low</td>\n",
       "      <td>housing transactions</td>\n",
       "      <td>7</td>\n",
       "    </tr>\n",
       "    <tr>\n",
       "      <th>...</th>\n",
       "      <td>...</td>\n",
       "      <td>...</td>\n",
       "      <td>...</td>\n",
       "      <td>...</td>\n",
       "      <td>...</td>\n",
       "      <td>...</td>\n",
       "      <td>...</td>\n",
       "      <td>...</td>\n",
       "      <td>...</td>\n",
       "      <td>...</td>\n",
       "      <td>...</td>\n",
       "      <td>...</td>\n",
       "      <td>...</td>\n",
       "      <td>...</td>\n",
       "      <td>...</td>\n",
       "    </tr>\n",
       "    <tr>\n",
       "      <th>20904</th>\n",
       "      <td>3</td>\n",
       "      <td>921.5</td>\n",
       "      <td>42</td>\n",
       "      <td>4</td>\n",
       "      <td>secondary</td>\n",
       "      <td>1</td>\n",
       "      <td>married</td>\n",
       "      <td>0</td>\n",
       "      <td>M</td>\n",
       "      <td>retiree</td>\n",
       "      <td>0</td>\n",
       "      <td>21.233</td>\n",
       "      <td>low</td>\n",
       "      <td>to own a car</td>\n",
       "      <td>5</td>\n",
       "    </tr>\n",
       "    <tr>\n",
       "      <th>21072</th>\n",
       "      <td>0</td>\n",
       "      <td>1005.2</td>\n",
       "      <td>50</td>\n",
       "      <td>5</td>\n",
       "      <td>secondary</td>\n",
       "      <td>1</td>\n",
       "      <td>married</td>\n",
       "      <td>0</td>\n",
       "      <td>F</td>\n",
       "      <td>retiree</td>\n",
       "      <td>1</td>\n",
       "      <td>17.297</td>\n",
       "      <td>low</td>\n",
       "      <td>buy commercial real estate</td>\n",
       "      <td>3</td>\n",
       "    </tr>\n",
       "    <tr>\n",
       "      <th>21104</th>\n",
       "      <td>0</td>\n",
       "      <td>1007.0</td>\n",
       "      <td>47</td>\n",
       "      <td>5</td>\n",
       "      <td>primary</td>\n",
       "      <td>3</td>\n",
       "      <td>civil partnership</td>\n",
       "      <td>1</td>\n",
       "      <td>F</td>\n",
       "      <td>retiree</td>\n",
       "      <td>0</td>\n",
       "      <td>9.609</td>\n",
       "      <td>low</td>\n",
       "      <td>buying my own car</td>\n",
       "      <td>5</td>\n",
       "    </tr>\n",
       "    <tr>\n",
       "      <th>21168</th>\n",
       "      <td>0</td>\n",
       "      <td>942.7</td>\n",
       "      <td>49</td>\n",
       "      <td>5</td>\n",
       "      <td>secondary</td>\n",
       "      <td>1</td>\n",
       "      <td>married</td>\n",
       "      <td>0</td>\n",
       "      <td>F</td>\n",
       "      <td>retiree</td>\n",
       "      <td>0</td>\n",
       "      <td>23.419</td>\n",
       "      <td>low</td>\n",
       "      <td>buy residential real estate</td>\n",
       "      <td>3</td>\n",
       "    </tr>\n",
       "    <tr>\n",
       "      <th>21218</th>\n",
       "      <td>0</td>\n",
       "      <td>1083.5</td>\n",
       "      <td>48</td>\n",
       "      <td>5</td>\n",
       "      <td>secondary</td>\n",
       "      <td>1</td>\n",
       "      <td>married</td>\n",
       "      <td>0</td>\n",
       "      <td>F</td>\n",
       "      <td>retiree</td>\n",
       "      <td>0</td>\n",
       "      <td>18.749</td>\n",
       "      <td>low</td>\n",
       "      <td>purchase of the house for my family</td>\n",
       "      <td>0</td>\n",
       "    </tr>\n",
       "  </tbody>\n",
       "</table>\n",
       "<p>242 rows × 15 columns</p>\n",
       "</div>"
      ],
      "text/plain": [
       "       children  years_employed  age  age_id  education  education_id  \\\n",
       "99            0           949.4    0       0  secondary             1   \n",
       "157           0           954.6   38       3  secondary             1   \n",
       "311           0           970.5   44       4  secondary             1   \n",
       "388           0           991.6   49       5   bachelor             0   \n",
       "512           1          1087.7   46       5  secondary             1   \n",
       "...         ...             ...  ...     ...        ...           ...   \n",
       "20904         3           921.5   42       4  secondary             1   \n",
       "21072         0          1005.2   50       5  secondary             1   \n",
       "21104         0          1007.0   47       5    primary             3   \n",
       "21168         0           942.7   49       5  secondary             1   \n",
       "21218         0          1083.5   48       5  secondary             1   \n",
       "\n",
       "           family_status  family_status_id gender income_type  debt  \\\n",
       "99               married                 0      F     retiree     0   \n",
       "157              married                 0      F     retiree     1   \n",
       "311              married                 0      F     retiree     0   \n",
       "388            unmarried                 4      F     retiree     0   \n",
       "512              married                 0      F     retiree     0   \n",
       "...                  ...               ...    ...         ...   ...   \n",
       "20904            married                 0      M     retiree     0   \n",
       "21072            married                 0      F     retiree     1   \n",
       "21104  civil partnership                 1      F     retiree     0   \n",
       "21168            married                 0      F     retiree     0   \n",
       "21218            married                 0      F     retiree     0   \n",
       "\n",
       "       total_income_(*1K) total_income_id  \\\n",
       "99                 11.406             low   \n",
       "157                18.169             low   \n",
       "311                 7.593             low   \n",
       "388                46.431         average   \n",
       "512                30.672             low   \n",
       "...                   ...             ...   \n",
       "20904              21.233             low   \n",
       "21072              17.297             low   \n",
       "21104               9.609             low   \n",
       "21168              23.419             low   \n",
       "21218              18.749             low   \n",
       "\n",
       "                                   purpose  purpose_id  \n",
       "99                                     car           5  \n",
       "157                      purchase of a car           5  \n",
       "311                    going to university           2  \n",
       "388                                   cars           5  \n",
       "512                   housing transactions           7  \n",
       "...                                    ...         ...  \n",
       "20904                         to own a car           5  \n",
       "21072           buy commercial real estate           3  \n",
       "21104                    buying my own car           5  \n",
       "21168          buy residential real estate           3  \n",
       "21218  purchase of the house for my family           0  \n",
       "\n",
       "[242 rows x 15 columns]"
      ]
     },
     "execution_count": 26,
     "metadata": {},
     "output_type": "execute_result"
    }
   ],
   "source": [
    "credit[(credit['years_employed'] > 45) & (credit['age'] <= 50)]"
   ]
  },
  {
   "cell_type": "markdown",
   "id": "a269bb1a",
   "metadata": {},
   "source": [
    "***\n",
    ">Al observar la tabla resutante, podemos ver que es posible obtener valores sensatos para los años laborados si reducimos en 2 el orden de magnitud de esa columna. Mediante este approach, tendríamos que modificar la columna 'income_type' para que también sea congruente con las edades de los usuarios.\n",
    "\n",
    "> El approach que tomaremos será eliminar estas filas ya que son solamente 242 y no afectarán de manera significativa el anális subsecuente.\n",
    "***"
   ]
  },
  {
   "cell_type": "code",
   "execution_count": 27,
   "id": "5e2cef97",
   "metadata": {},
   "outputs": [
    {
     "data": {
      "text/plain": [
       "0"
      ]
     },
     "execution_count": 27,
     "metadata": {},
     "output_type": "execute_result"
    }
   ],
   "source": [
    "# eliminación de las filas problemáticas\n",
    "# y demostración de que se han eliminado\n",
    "\n",
    "indexes_to_delete_years = credit[(credit['years_employed'] > 45) & (credit['age'] <= 50)].index\n",
    "credit.drop(index=indexes_to_delete_years, inplace=True)\n",
    "len(credit[(credit['years_employed'] > 45) & (credit['age'] <= 50)])"
   ]
  },
  {
   "cell_type": "code",
   "execution_count": 28,
   "id": "32b68481",
   "metadata": {},
   "outputs": [
    {
     "data": {
      "text/plain": [
       "59    254\n",
       "60    244\n",
       "62    235\n",
       "61    216\n",
       "57    212\n",
       "58    208\n",
       "63    192\n",
       "56    184\n",
       "64    179\n",
       "55    162\n",
       "54    145\n",
       "66    139\n",
       "65    136\n",
       "67    132\n",
       "53    105\n",
       "52     95\n",
       "68     80\n",
       "69     74\n",
       "51     73\n",
       "70     54\n",
       "71     48\n",
       "72     28\n",
       "73      6\n",
       "74      4\n",
       "Name: age, dtype: int64"
      ]
     },
     "execution_count": 28,
     "metadata": {},
     "output_type": "execute_result"
    }
   ],
   "source": [
    "# distribución de usuarios retirados y con valores atípicos\n",
    "\n",
    "credit[credit['years_employed'] > 45]['age'].value_counts()"
   ]
  },
  {
   "cell_type": "markdown",
   "id": "272dad42",
   "metadata": {},
   "source": [
    "***\n",
    ">Calcularemos la media y la mediana para años laborados de los usuarios sin valores atípicos. Se agruparán de acuerdo a 'age_id."
   ]
  },
  {
   "cell_type": "code",
   "execution_count": 29,
   "id": "fc9dd99b",
   "metadata": {},
   "outputs": [
    {
     "data": {
      "text/html": [
       "<div>\n",
       "<style scoped>\n",
       "    .dataframe tbody tr th:only-of-type {\n",
       "        vertical-align: middle;\n",
       "    }\n",
       "\n",
       "    .dataframe tbody tr th {\n",
       "        vertical-align: top;\n",
       "    }\n",
       "\n",
       "    .dataframe thead th {\n",
       "        text-align: right;\n",
       "    }\n",
       "</style>\n",
       "<table border=\"1\" class=\"dataframe\">\n",
       "  <thead>\n",
       "    <tr style=\"text-align: right;\">\n",
       "      <th></th>\n",
       "      <th>mean</th>\n",
       "      <th>median</th>\n",
       "    </tr>\n",
       "    <tr>\n",
       "      <th>age_id</th>\n",
       "      <th></th>\n",
       "      <th></th>\n",
       "    </tr>\n",
       "  </thead>\n",
       "  <tbody>\n",
       "    <tr>\n",
       "      <th>0</th>\n",
       "      <td>2.750506</td>\n",
       "      <td>2.30</td>\n",
       "    </tr>\n",
       "    <tr>\n",
       "      <th>1</th>\n",
       "      <td>3.987717</td>\n",
       "      <td>3.40</td>\n",
       "    </tr>\n",
       "    <tr>\n",
       "      <th>2</th>\n",
       "      <td>5.146817</td>\n",
       "      <td>4.10</td>\n",
       "    </tr>\n",
       "    <tr>\n",
       "      <th>3</th>\n",
       "      <td>6.313839</td>\n",
       "      <td>4.90</td>\n",
       "    </tr>\n",
       "    <tr>\n",
       "      <th>4</th>\n",
       "      <td>7.292116</td>\n",
       "      <td>5.40</td>\n",
       "    </tr>\n",
       "    <tr>\n",
       "      <th>5</th>\n",
       "      <td>8.170763</td>\n",
       "      <td>5.90</td>\n",
       "    </tr>\n",
       "    <tr>\n",
       "      <th>6</th>\n",
       "      <td>286.658119</td>\n",
       "      <td>10.10</td>\n",
       "    </tr>\n",
       "    <tr>\n",
       "      <th>7</th>\n",
       "      <td>557.481407</td>\n",
       "      <td>922.45</td>\n",
       "    </tr>\n",
       "    <tr>\n",
       "      <th>8</th>\n",
       "      <td>796.462806</td>\n",
       "      <td>975.90</td>\n",
       "    </tr>\n",
       "  </tbody>\n",
       "</table>\n",
       "</div>"
      ],
      "text/plain": [
       "              mean  median\n",
       "age_id                    \n",
       "0         2.750506    2.30\n",
       "1         3.987717    3.40\n",
       "2         5.146817    4.10\n",
       "3         6.313839    4.90\n",
       "4         7.292116    5.40\n",
       "5         8.170763    5.90\n",
       "6       286.658119   10.10\n",
       "7       557.481407  922.45\n",
       "8       796.462806  975.90"
      ]
     },
     "execution_count": 29,
     "metadata": {},
     "output_type": "execute_result"
    }
   ],
   "source": [
    "# cálculo de las medias por grupo de edad\n",
    "\n",
    "grouped_by_age_id = credit.groupby('age_id')['years_employed'].agg(['mean', 'median'])\n",
    "grouped_by_age_id"
   ]
  },
  {
   "cell_type": "markdown",
   "id": "74f54a5d",
   "metadata": {},
   "source": [
    "***\n",
    ">Se utilizará la media para los id de 0 a 5, mientras que se utilizará la mediana para el id 6. Para los id 7 y 8, se utilizará 48.1, que es la media de los usuarios retirados que no presentan valores atípicos, como se mencionó anteriormente.\n",
    "***"
   ]
  },
  {
   "cell_type": "code",
   "execution_count": 30,
   "id": "a926bb3c",
   "metadata": {},
   "outputs": [],
   "source": [
    "# definir una función que tome una fila y reemplace los valores donde sea necesario\n",
    "\n",
    "def replace_outliers(row): \n",
    "    years = row['years_employed']\n",
    "    age_id = row['age_id']\n",
    "\n",
    "    if years > 100:\n",
    "        try:\n",
    "            if age_id == 6:\n",
    "                return grouped_by_age_id.loc[age_id, 'median']\n",
    "            if (age_id == 7) or (age_id == 8):\n",
    "                return 48.1\n",
    "            return grouped_by_age_id.loc[age_id, 'mean']\n",
    "        except:\n",
    "            return years\n",
    "    return years\n",
    "\n",
    "# reemplazo de los valores atípicos\n",
    "\n",
    "credit['years_employed'] = credit.apply(replace_outliers, axis=1)"
   ]
  },
  {
   "cell_type": "code",
   "execution_count": 31,
   "id": "8d6af5ee",
   "metadata": {},
   "outputs": [
    {
     "data": {
      "text/plain": [
       "50.4"
      ]
     },
     "execution_count": 31,
     "metadata": {},
     "output_type": "execute_result"
    }
   ],
   "source": [
    "# comprobando el valor máximo de 'years_employed'\n",
    "\n",
    "credit['years_employed'].max()"
   ]
  },
  {
   "cell_type": "markdown",
   "id": "558e5a8f",
   "metadata": {},
   "source": [
    "> #### Columna 'age'"
   ]
  },
  {
   "cell_type": "code",
   "execution_count": 32,
   "id": "aa28eb59",
   "metadata": {},
   "outputs": [
    {
     "data": {
      "text/plain": [
       "array([ 0, 19, 20, 21, 22, 23, 24, 25, 26, 27, 28, 29, 30, 31, 32, 33, 34,\n",
       "       35, 36, 37, 38, 39, 40, 41, 42, 43, 44, 45, 46, 47, 48, 49, 50, 51,\n",
       "       52, 53, 54, 55, 56, 57, 58, 59, 60, 61, 62, 63, 64, 65, 66, 67, 68,\n",
       "       69, 70, 71, 72, 73, 74, 75])"
      ]
     },
     "execution_count": 32,
     "metadata": {},
     "output_type": "execute_result"
    }
   ],
   "source": [
    "np.sort(credit['age'].unique())"
   ]
  },
  {
   "cell_type": "code",
   "execution_count": 33,
   "id": "892dfe9c",
   "metadata": {},
   "outputs": [
    {
     "data": {
      "text/plain": [
       "84"
      ]
     },
     "execution_count": 33,
     "metadata": {},
     "output_type": "execute_result"
    }
   ],
   "source": [
    "# análisis de cuántos usuarios aparecen con 0 años de edad\n",
    "\n",
    "len(credit[credit['age'] == 0])"
   ]
  },
  {
   "cell_type": "markdown",
   "id": "fb3ab49b",
   "metadata": {},
   "source": [
    "***\n",
    ">84 filas contienen un valor de edad de 0 años. Se observa también que hay muchos valores diferentes en las demás columnas, i.e., no se ve un patrón claro, con lo que éstas filas se eliminarán.\n",
    "***"
   ]
  },
  {
   "cell_type": "code",
   "execution_count": 34,
   "id": "5beed38d",
   "metadata": {},
   "outputs": [
    {
     "data": {
      "text/html": [
       "<div>\n",
       "<style scoped>\n",
       "    .dataframe tbody tr th:only-of-type {\n",
       "        vertical-align: middle;\n",
       "    }\n",
       "\n",
       "    .dataframe tbody tr th {\n",
       "        vertical-align: top;\n",
       "    }\n",
       "\n",
       "    .dataframe thead th {\n",
       "        text-align: right;\n",
       "    }\n",
       "</style>\n",
       "<table border=\"1\" class=\"dataframe\">\n",
       "  <thead>\n",
       "    <tr style=\"text-align: right;\">\n",
       "      <th></th>\n",
       "      <th>children</th>\n",
       "      <th>years_employed</th>\n",
       "      <th>age</th>\n",
       "      <th>age_id</th>\n",
       "      <th>education</th>\n",
       "      <th>education_id</th>\n",
       "      <th>family_status</th>\n",
       "      <th>family_status_id</th>\n",
       "      <th>gender</th>\n",
       "      <th>income_type</th>\n",
       "      <th>debt</th>\n",
       "      <th>total_income_(*1K)</th>\n",
       "      <th>total_income_id</th>\n",
       "      <th>purpose</th>\n",
       "      <th>purpose_id</th>\n",
       "    </tr>\n",
       "  </thead>\n",
       "  <tbody>\n",
       "  </tbody>\n",
       "</table>\n",
       "</div>"
      ],
      "text/plain": [
       "Empty DataFrame\n",
       "Columns: [children, years_employed, age, age_id, education, education_id, family_status, family_status_id, gender, income_type, debt, total_income_(*1K), total_income_id, purpose, purpose_id]\n",
       "Index: []"
      ]
     },
     "execution_count": 34,
     "metadata": {},
     "output_type": "execute_result"
    }
   ],
   "source": [
    "# eliminación de las filas problemáticas\n",
    "# y demostración de que se han eliminado\n",
    "\n",
    "indexes_to_delete_age = credit[credit['age'] == 0].index\n",
    "credit.drop(index=indexes_to_delete_age, inplace=True)\n",
    "credit[credit['age'] == 0]"
   ]
  },
  {
   "cell_type": "markdown",
   "id": "3fae45f2",
   "metadata": {},
   "source": [
    "> #### Columna 'education'"
   ]
  },
  {
   "cell_type": "code",
   "execution_count": 35,
   "id": "5e1287a5",
   "metadata": {},
   "outputs": [
    {
     "data": {
      "text/plain": [
       "secondary       14991\n",
       "bachelor         5186\n",
       "some college      738\n",
       "primary           278\n",
       "graduate            6\n",
       "Name: education, dtype: int64"
      ]
     },
     "execution_count": 35,
     "metadata": {},
     "output_type": "execute_result"
    }
   ],
   "source": [
    "credit['education'].value_counts()"
   ]
  },
  {
   "cell_type": "markdown",
   "id": "e008100b",
   "metadata": {},
   "source": [
    "***\n",
    ">No se realizarán cambios en la columna 'education', pues todo se ve en orden\n",
    "***"
   ]
  },
  {
   "cell_type": "markdown",
   "id": "0ef6b28d",
   "metadata": {},
   "source": [
    "> #### Columna 'family_status'"
   ]
  },
  {
   "cell_type": "code",
   "execution_count": 36,
   "id": "c80cf69c",
   "metadata": {},
   "outputs": [
    {
     "data": {
      "text/plain": [
       "married              12196\n",
       "civil partnership     4108\n",
       "unmarried             2775\n",
       "divorced              1172\n",
       "widow / widower        948\n",
       "Name: family_status, dtype: int64"
      ]
     },
     "execution_count": 36,
     "metadata": {},
     "output_type": "execute_result"
    }
   ],
   "source": [
    "credit['family_status'].value_counts()"
   ]
  },
  {
   "cell_type": "markdown",
   "id": "c90f1f5a",
   "metadata": {},
   "source": [
    "***\n",
    ">No se realizarán cambios en la columna 'family_status' pues todo se ve en orden\n",
    "***"
   ]
  },
  {
   "cell_type": "markdown",
   "id": "928e89dd",
   "metadata": {},
   "source": [
    "> #### Columna 'gender'"
   ]
  },
  {
   "cell_type": "code",
   "execution_count": 37,
   "id": "e9621e54",
   "metadata": {},
   "outputs": [
    {
     "data": {
      "text/plain": [
       "F      14022\n",
       "M       7176\n",
       "XNA        1\n",
       "Name: gender, dtype: int64"
      ]
     },
     "execution_count": 37,
     "metadata": {},
     "output_type": "execute_result"
    }
   ],
   "source": [
    "credit['gender'].value_counts()"
   ]
  },
  {
   "cell_type": "markdown",
   "id": "d711232f",
   "metadata": {},
   "source": [
    "***\n",
    ">Sólo existe una columna con un valor indefinido. Se cambiará simplemente por 'undefined' para mayor claridad.\n",
    "***"
   ]
  },
  {
   "cell_type": "code",
   "execution_count": 38,
   "id": "7dfb47c0",
   "metadata": {},
   "outputs": [
    {
     "data": {
      "text/plain": [
       "F            14022\n",
       "M             7176\n",
       "undefined        1\n",
       "Name: gender, dtype: int64"
      ]
     },
     "execution_count": 38,
     "metadata": {},
     "output_type": "execute_result"
    }
   ],
   "source": [
    "credit.loc[credit['gender'] == 'XNA', 'gender'] = 'undefined'\n",
    "credit['gender'].value_counts()"
   ]
  },
  {
   "cell_type": "markdown",
   "id": "ff1a6753",
   "metadata": {},
   "source": [
    "> #### Columna 'debt'"
   ]
  },
  {
   "cell_type": "code",
   "execution_count": 39,
   "id": "f37646bf",
   "metadata": {},
   "outputs": [
    {
     "data": {
      "text/plain": [
       "0    19483\n",
       "1     1716\n",
       "Name: debt, dtype: int64"
      ]
     },
     "execution_count": 39,
     "metadata": {},
     "output_type": "execute_result"
    }
   ],
   "source": [
    "credit['debt'].value_counts()"
   ]
  },
  {
   "cell_type": "markdown",
   "id": "c795cddd",
   "metadata": {},
   "source": [
    "***\n",
    ">No hay ningún problema significativo en esta columna.\n",
    "***"
   ]
  },
  {
   "cell_type": "markdown",
   "id": "fac967c9",
   "metadata": {},
   "source": [
    "> #### Columna 'total_income'"
   ]
  },
  {
   "cell_type": "markdown",
   "id": "9f994668",
   "metadata": {},
   "source": [
    "***\n",
    ">Se analizarán valores atípicos. Los valores ausentes de tratarán más adelante.\n",
    "***"
   ]
  },
  {
   "cell_type": "code",
   "execution_count": 40,
   "id": "3bd1e6a6",
   "metadata": {},
   "outputs": [
    {
     "name": "stdout",
     "output_type": "stream",
     "text": [
      "Ingreso mínimo en el dataset: 3306.0\n",
      "Ingreso máximo en el dataset: 362496.0\n"
     ]
    }
   ],
   "source": [
    "min_income = credit['total_income_(*1K)'].min()\n",
    "max_income = credit['total_income_(*1K)'].max()\n",
    "\n",
    "print(f'Ingreso mínimo en el dataset: {min_income*1000}')\n",
    "print(f'Ingreso máximo en el dataset: {max_income*1000}')"
   ]
  },
  {
   "cell_type": "markdown",
   "id": "218dcaa6",
   "metadata": {},
   "source": [
    "***\n",
    ">Se tiene un rango amplio de valores en los sueldos. Esto se tendrá en cuenta cuando se vayan a reemplazar los valores ausentes.\n",
    "***\n",
    "***"
   ]
  },
  {
   "cell_type": "markdown",
   "id": "06fcc604",
   "metadata": {},
   "source": [
    "***\n",
    ">Una vez analizadas las columnas y tratados los problemas en cada una, se reiniciarán los índices del dataset para tener una tabla limpia.\n",
    "***"
   ]
  },
  {
   "cell_type": "code",
   "execution_count": 41,
   "id": "804e733a",
   "metadata": {},
   "outputs": [
    {
     "name": "stdout",
     "output_type": "stream",
     "text": [
      "<class 'pandas.core.frame.DataFrame'>\n",
      "RangeIndex: 21199 entries, 0 to 21198\n",
      "Data columns (total 15 columns):\n",
      " #   Column              Non-Null Count  Dtype  \n",
      "---  ------              --------------  -----  \n",
      " 0   children            21199 non-null  int64  \n",
      " 1   years_employed      19035 non-null  float64\n",
      " 2   age                 21199 non-null  int64  \n",
      " 3   age_id              21199 non-null  int64  \n",
      " 4   education           21199 non-null  object \n",
      " 5   education_id        21199 non-null  int64  \n",
      " 6   family_status       21199 non-null  object \n",
      " 7   family_status_id    21199 non-null  int64  \n",
      " 8   gender              21199 non-null  object \n",
      " 9   income_type         21199 non-null  object \n",
      " 10  debt                21199 non-null  int64  \n",
      " 11  total_income_(*1K)  19035 non-null  float64\n",
      " 12  total_income_id     21199 non-null  object \n",
      " 13  purpose             21199 non-null  object \n",
      " 14  purpose_id          21199 non-null  int64  \n",
      "dtypes: float64(2), int64(7), object(6)\n",
      "memory usage: 2.4+ MB\n"
     ]
    }
   ],
   "source": [
    "credit.reset_index(drop=True, inplace=True)\n",
    "credit.info()"
   ]
  },
  {
   "cell_type": "markdown",
   "id": "eb5edcde",
   "metadata": {},
   "source": [
    "***\n",
    ">## Reemplazo de valores ausentes\n",
    "***"
   ]
  },
  {
   "cell_type": "markdown",
   "id": "0d8c3490",
   "metadata": {},
   "source": [
    "> Cómo se explicó anteriormente, las columnas **years_employed** y **total_income** poseen valores ausentes en las mismas filas. Al reemplazar los valores, no se tendrán en cuenta la una sobre la otra, sino las columnas restantes."
   ]
  },
  {
   "cell_type": "markdown",
   "id": "30923021",
   "metadata": {},
   "source": [
    "> ### Columna 'years_employed'\n",
    "> Para esta columna, se tendrán en cuenta las conclusiones obtenidas durante el análisis de los valores ausentes. Particularmente, se tomarán en cuenta la edad y el tipo de trabajo. Esto debido a que éstas características arrojaron la mayoría de las filas con valores ausentes (Consultar las **Conclusiones intermedias** en la sección '1 Exploración de los datos').\n",
    "\n",
    ">Se utilizará la edad para filtrar los datos, ya que la edad es el factor más importante para determinar los años de servicio."
   ]
  },
  {
   "cell_type": "code",
   "execution_count": 42,
   "id": "3e6d6963",
   "metadata": {},
   "outputs": [
    {
     "name": "stdout",
     "output_type": "stream",
     "text": [
      "               median           mean            std\n",
      "       years_employed years_employed years_employed\n",
      "age_id                                             \n",
      "0                 2.2       2.532284       1.820463\n",
      "1                 3.4       3.987717       2.822945\n",
      "2                 4.1       5.146817       4.004544\n",
      "3                 4.9       6.313839       5.170365\n",
      "4                 5.4       7.292116       6.319557\n",
      "5                 5.9       8.170763       7.360187\n",
      "6                10.1       9.174067       7.108760\n",
      "7                48.1      30.855025      20.174126\n",
      "8                48.1      40.354356      15.868297\n"
     ]
    },
    {
     "data": {
      "text/html": [
       "<div>\n",
       "<style scoped>\n",
       "    .dataframe tbody tr th:only-of-type {\n",
       "        vertical-align: middle;\n",
       "    }\n",
       "\n",
       "    .dataframe tbody tr th {\n",
       "        vertical-align: top;\n",
       "    }\n",
       "\n",
       "    .dataframe thead tr th {\n",
       "        text-align: left;\n",
       "    }\n",
       "\n",
       "    .dataframe thead tr:last-of-type th {\n",
       "        text-align: right;\n",
       "    }\n",
       "</style>\n",
       "<table border=\"1\" class=\"dataframe\">\n",
       "  <thead>\n",
       "    <tr>\n",
       "      <th></th>\n",
       "      <th></th>\n",
       "      <th>median</th>\n",
       "      <th>mean</th>\n",
       "      <th>std</th>\n",
       "    </tr>\n",
       "    <tr>\n",
       "      <th></th>\n",
       "      <th></th>\n",
       "      <th>years_employed</th>\n",
       "      <th>years_employed</th>\n",
       "      <th>years_employed</th>\n",
       "    </tr>\n",
       "    <tr>\n",
       "      <th>age_id</th>\n",
       "      <th>income_type</th>\n",
       "      <th></th>\n",
       "      <th></th>\n",
       "      <th></th>\n",
       "    </tr>\n",
       "  </thead>\n",
       "  <tbody>\n",
       "    <tr>\n",
       "      <th rowspan=\"4\" valign=\"top\">0</th>\n",
       "      <th>business</th>\n",
       "      <td>2.10</td>\n",
       "      <td>2.371182</td>\n",
       "      <td>1.701794</td>\n",
       "    </tr>\n",
       "    <tr>\n",
       "      <th>civil servant</th>\n",
       "      <td>3.10</td>\n",
       "      <td>3.219697</td>\n",
       "      <td>2.252876</td>\n",
       "    </tr>\n",
       "    <tr>\n",
       "      <th>employee</th>\n",
       "      <td>2.20</td>\n",
       "      <td>2.548711</td>\n",
       "      <td>1.820000</td>\n",
       "    </tr>\n",
       "    <tr>\n",
       "      <th>student</th>\n",
       "      <td>1.60</td>\n",
       "      <td>1.600000</td>\n",
       "      <td>NaN</td>\n",
       "    </tr>\n",
       "    <tr>\n",
       "      <th rowspan=\"4\" valign=\"top\">1</th>\n",
       "      <th>business</th>\n",
       "      <td>3.10</td>\n",
       "      <td>3.803636</td>\n",
       "      <td>2.761867</td>\n",
       "    </tr>\n",
       "    <tr>\n",
       "      <th>civil servant</th>\n",
       "      <td>4.90</td>\n",
       "      <td>5.140838</td>\n",
       "      <td>3.256832</td>\n",
       "    </tr>\n",
       "    <tr>\n",
       "      <th>employee</th>\n",
       "      <td>3.30</td>\n",
       "      <td>3.918781</td>\n",
       "      <td>2.753197</td>\n",
       "    </tr>\n",
       "    <tr>\n",
       "      <th>entrepreneur</th>\n",
       "      <td>1.40</td>\n",
       "      <td>1.400000</td>\n",
       "      <td>NaN</td>\n",
       "    </tr>\n",
       "    <tr>\n",
       "      <th rowspan=\"4\" valign=\"top\">2</th>\n",
       "      <th>business</th>\n",
       "      <td>3.85</td>\n",
       "      <td>4.802049</td>\n",
       "      <td>3.740745</td>\n",
       "    </tr>\n",
       "    <tr>\n",
       "      <th>civil servant</th>\n",
       "      <td>6.10</td>\n",
       "      <td>6.464824</td>\n",
       "      <td>4.235155</td>\n",
       "    </tr>\n",
       "    <tr>\n",
       "      <th>employee</th>\n",
       "      <td>4.00</td>\n",
       "      <td>5.139294</td>\n",
       "      <td>4.059389</td>\n",
       "    </tr>\n",
       "    <tr>\n",
       "      <th>unemployed</th>\n",
       "      <td>7.60</td>\n",
       "      <td>7.600000</td>\n",
       "      <td>NaN</td>\n",
       "    </tr>\n",
       "    <tr>\n",
       "      <th rowspan=\"4\" valign=\"top\">3</th>\n",
       "      <th>business</th>\n",
       "      <td>4.50</td>\n",
       "      <td>5.605518</td>\n",
       "      <td>4.545400</td>\n",
       "    </tr>\n",
       "    <tr>\n",
       "      <th>civil servant</th>\n",
       "      <td>9.35</td>\n",
       "      <td>9.684314</td>\n",
       "      <td>5.961382</td>\n",
       "    </tr>\n",
       "    <tr>\n",
       "      <th>employee</th>\n",
       "      <td>4.70</td>\n",
       "      <td>6.211988</td>\n",
       "      <td>5.175410</td>\n",
       "    </tr>\n",
       "    <tr>\n",
       "      <th>paternity / maternity leave</th>\n",
       "      <td>9.00</td>\n",
       "      <td>9.000000</td>\n",
       "      <td>NaN</td>\n",
       "    </tr>\n",
       "    <tr>\n",
       "      <th rowspan=\"3\" valign=\"top\">4</th>\n",
       "      <th>business</th>\n",
       "      <td>4.90</td>\n",
       "      <td>6.323300</td>\n",
       "      <td>5.237916</td>\n",
       "    </tr>\n",
       "    <tr>\n",
       "      <th>civil servant</th>\n",
       "      <td>8.80</td>\n",
       "      <td>10.572897</td>\n",
       "      <td>7.396415</td>\n",
       "    </tr>\n",
       "    <tr>\n",
       "      <th>employee</th>\n",
       "      <td>5.10</td>\n",
       "      <td>7.270966</td>\n",
       "      <td>6.451929</td>\n",
       "    </tr>\n",
       "    <tr>\n",
       "      <th rowspan=\"3\" valign=\"top\">5</th>\n",
       "      <th>business</th>\n",
       "      <td>5.60</td>\n",
       "      <td>7.496333</td>\n",
       "      <td>6.643587</td>\n",
       "    </tr>\n",
       "    <tr>\n",
       "      <th>civil servant</th>\n",
       "      <td>9.65</td>\n",
       "      <td>11.589130</td>\n",
       "      <td>8.265359</td>\n",
       "    </tr>\n",
       "    <tr>\n",
       "      <th>employee</th>\n",
       "      <td>5.70</td>\n",
       "      <td>8.003358</td>\n",
       "      <td>7.414299</td>\n",
       "    </tr>\n",
       "    <tr>\n",
       "      <th rowspan=\"4\" valign=\"top\">6</th>\n",
       "      <th>business</th>\n",
       "      <td>5.40</td>\n",
       "      <td>7.869617</td>\n",
       "      <td>7.668248</td>\n",
       "    </tr>\n",
       "    <tr>\n",
       "      <th>civil servant</th>\n",
       "      <td>9.80</td>\n",
       "      <td>13.014634</td>\n",
       "      <td>10.056494</td>\n",
       "    </tr>\n",
       "    <tr>\n",
       "      <th>employee</th>\n",
       "      <td>6.10</td>\n",
       "      <td>8.681316</td>\n",
       "      <td>8.252904</td>\n",
       "    </tr>\n",
       "    <tr>\n",
       "      <th>retiree</th>\n",
       "      <td>10.10</td>\n",
       "      <td>10.100000</td>\n",
       "      <td>0.000000</td>\n",
       "    </tr>\n",
       "    <tr>\n",
       "      <th rowspan=\"4\" valign=\"top\">7</th>\n",
       "      <th>business</th>\n",
       "      <td>5.90</td>\n",
       "      <td>8.077143</td>\n",
       "      <td>7.775095</td>\n",
       "    </tr>\n",
       "    <tr>\n",
       "      <th>civil servant</th>\n",
       "      <td>11.50</td>\n",
       "      <td>14.370886</td>\n",
       "      <td>10.611147</td>\n",
       "    </tr>\n",
       "    <tr>\n",
       "      <th>employee</th>\n",
       "      <td>6.10</td>\n",
       "      <td>9.432212</td>\n",
       "      <td>9.478968</td>\n",
       "    </tr>\n",
       "    <tr>\n",
       "      <th>retiree</th>\n",
       "      <td>48.10</td>\n",
       "      <td>48.100000</td>\n",
       "      <td>0.000000</td>\n",
       "    </tr>\n",
       "    <tr>\n",
       "      <th rowspan=\"4\" valign=\"top\">8</th>\n",
       "      <th>business</th>\n",
       "      <td>6.50</td>\n",
       "      <td>10.115447</td>\n",
       "      <td>10.278595</td>\n",
       "    </tr>\n",
       "    <tr>\n",
       "      <th>civil servant</th>\n",
       "      <td>8.80</td>\n",
       "      <td>11.652174</td>\n",
       "      <td>10.368044</td>\n",
       "    </tr>\n",
       "    <tr>\n",
       "      <th>employee</th>\n",
       "      <td>7.30</td>\n",
       "      <td>10.656388</td>\n",
       "      <td>10.066715</td>\n",
       "    </tr>\n",
       "    <tr>\n",
       "      <th>retiree</th>\n",
       "      <td>48.10</td>\n",
       "      <td>48.100000</td>\n",
       "      <td>0.000000</td>\n",
       "    </tr>\n",
       "  </tbody>\n",
       "</table>\n",
       "</div>"
      ],
      "text/plain": [
       "                                           median           mean  \\\n",
       "                                   years_employed years_employed   \n",
       "age_id income_type                                                 \n",
       "0      business                              2.10       2.371182   \n",
       "       civil servant                         3.10       3.219697   \n",
       "       employee                              2.20       2.548711   \n",
       "       student                               1.60       1.600000   \n",
       "1      business                              3.10       3.803636   \n",
       "       civil servant                         4.90       5.140838   \n",
       "       employee                              3.30       3.918781   \n",
       "       entrepreneur                          1.40       1.400000   \n",
       "2      business                              3.85       4.802049   \n",
       "       civil servant                         6.10       6.464824   \n",
       "       employee                              4.00       5.139294   \n",
       "       unemployed                            7.60       7.600000   \n",
       "3      business                              4.50       5.605518   \n",
       "       civil servant                         9.35       9.684314   \n",
       "       employee                              4.70       6.211988   \n",
       "       paternity / maternity leave           9.00       9.000000   \n",
       "4      business                              4.90       6.323300   \n",
       "       civil servant                         8.80      10.572897   \n",
       "       employee                              5.10       7.270966   \n",
       "5      business                              5.60       7.496333   \n",
       "       civil servant                         9.65      11.589130   \n",
       "       employee                              5.70       8.003358   \n",
       "6      business                              5.40       7.869617   \n",
       "       civil servant                         9.80      13.014634   \n",
       "       employee                              6.10       8.681316   \n",
       "       retiree                              10.10      10.100000   \n",
       "7      business                              5.90       8.077143   \n",
       "       civil servant                        11.50      14.370886   \n",
       "       employee                              6.10       9.432212   \n",
       "       retiree                              48.10      48.100000   \n",
       "8      business                              6.50      10.115447   \n",
       "       civil servant                         8.80      11.652174   \n",
       "       employee                              7.30      10.656388   \n",
       "       retiree                              48.10      48.100000   \n",
       "\n",
       "                                              std  \n",
       "                                   years_employed  \n",
       "age_id income_type                                 \n",
       "0      business                          1.701794  \n",
       "       civil servant                     2.252876  \n",
       "       employee                          1.820000  \n",
       "       student                                NaN  \n",
       "1      business                          2.761867  \n",
       "       civil servant                     3.256832  \n",
       "       employee                          2.753197  \n",
       "       entrepreneur                           NaN  \n",
       "2      business                          3.740745  \n",
       "       civil servant                     4.235155  \n",
       "       employee                          4.059389  \n",
       "       unemployed                             NaN  \n",
       "3      business                          4.545400  \n",
       "       civil servant                     5.961382  \n",
       "       employee                          5.175410  \n",
       "       paternity / maternity leave            NaN  \n",
       "4      business                          5.237916  \n",
       "       civil servant                     7.396415  \n",
       "       employee                          6.451929  \n",
       "5      business                          6.643587  \n",
       "       civil servant                     8.265359  \n",
       "       employee                          7.414299  \n",
       "6      business                          7.668248  \n",
       "       civil servant                    10.056494  \n",
       "       employee                          8.252904  \n",
       "       retiree                           0.000000  \n",
       "7      business                          7.775095  \n",
       "       civil servant                    10.611147  \n",
       "       employee                          9.478968  \n",
       "       retiree                           0.000000  \n",
       "8      business                         10.278595  \n",
       "       civil servant                    10.368044  \n",
       "       employee                         10.066715  \n",
       "       retiree                           0.000000  "
      ]
     },
     "execution_count": 42,
     "metadata": {},
     "output_type": "execute_result"
    }
   ],
   "source": [
    "years_employed_pivot_table = credit.pivot_table(\n",
    "                            index=['age_id', 'income_type'],\n",
    "                               values='years_employed',\n",
    "                               aggfunc=['median', 'mean', 'std'])\n",
    "\n",
    "# tabla auxiliar que sirve por si un usuario no cumple con las características age_id + income_type\n",
    "# por ejemplo, un usuario age_id=0 + income_type=retiree\n",
    "# se utilizará sólo la edad en este caso para reemplazar el valor\n",
    "\n",
    "years_employed_aux_pivot_table = credit.pivot_table(\n",
    "                            index=['age_id'],\n",
    "                               values='years_employed',\n",
    "                               aggfunc=['median', 'mean', 'std'])\n",
    "\n",
    "\n",
    "print(years_employed_aux_pivot_table)\n",
    "years_employed_pivot_table"
   ]
  },
  {
   "cell_type": "markdown",
   "id": "5a298f63",
   "metadata": {},
   "source": [
    "> Se tulizará la media para cada grupo de edades y subgrupo de tipo de empleo para el reemplazo de los valores ausentes."
   ]
  },
  {
   "cell_type": "code",
   "execution_count": 43,
   "id": "67406228",
   "metadata": {},
   "outputs": [
    {
     "name": "stdout",
     "output_type": "stream",
     "text": [
      "<class 'pandas.core.frame.DataFrame'>\n",
      "RangeIndex: 21199 entries, 0 to 21198\n",
      "Data columns (total 15 columns):\n",
      " #   Column              Non-Null Count  Dtype  \n",
      "---  ------              --------------  -----  \n",
      " 0   children            21199 non-null  int64  \n",
      " 1   years_employed      21199 non-null  float64\n",
      " 2   age                 21199 non-null  int64  \n",
      " 3   age_id              21199 non-null  int64  \n",
      " 4   education           21199 non-null  object \n",
      " 5   education_id        21199 non-null  int64  \n",
      " 6   family_status       21199 non-null  object \n",
      " 7   family_status_id    21199 non-null  int64  \n",
      " 8   gender              21199 non-null  object \n",
      " 9   income_type         21199 non-null  object \n",
      " 10  debt                21199 non-null  int64  \n",
      " 11  total_income_(*1K)  19035 non-null  float64\n",
      " 12  total_income_id     21199 non-null  object \n",
      " 13  purpose             21199 non-null  object \n",
      " 14  purpose_id          21199 non-null  int64  \n",
      "dtypes: float64(2), int64(7), object(6)\n",
      "memory usage: 2.4+ MB\n"
     ]
    }
   ],
   "source": [
    "# definir una función que reemplazará los valores ausentes\n",
    "\n",
    "def fill_null_years(row):\n",
    "    age_id = row['age_id']\n",
    "    income_type = row['income_type'] \n",
    "    years = row['years_employed']\n",
    "\n",
    "    if pd.isna(years):\n",
    "        try:\n",
    "            return years_employed_pivot_table.loc[(age_id,income_type),('mean','years_employed')]\n",
    "        except:\n",
    "            return years_employed_aux_pivot_table.loc[(age_id),('mean','years_employed')]\n",
    "    return years\n",
    "\n",
    "# reemplazar los valores ausentes\n",
    "\n",
    "credit['years_employed'] = credit.apply(fill_null_years, axis=1)\n",
    "\n",
    "# mostrar la información del dataset\n",
    "\n",
    "credit.info()"
   ]
  },
  {
   "cell_type": "markdown",
   "id": "815d39ce",
   "metadata": {},
   "source": [
    "> ### Columna 'total_income_(*1K)'\n",
    "> Para esta columna, también se tendrán en cuenta las conclusiones obtenidas durante el análisis de los valores ausentes. Particularmente, se tomarán en cuenta el género, la educación, y el número de hijos. Esto debido a que éstas características arrojaron la mayoría de las filas con valores ausentes (Consultar las **Conclusiones intermedias** en la sección '1 Exploración de los datos').\n",
    "\n",
    ">Principalmente se utilizará el nivel educativo para filtrar los datos, ya que ese es uno de los factores más importantes para medir el ingreso."
   ]
  },
  {
   "cell_type": "code",
   "execution_count": 44,
   "id": "31b06363",
   "metadata": {},
   "outputs": [
    {
     "data": {
      "text/html": [
       "<div>\n",
       "<style scoped>\n",
       "    .dataframe tbody tr th:only-of-type {\n",
       "        vertical-align: middle;\n",
       "    }\n",
       "\n",
       "    .dataframe tbody tr th {\n",
       "        vertical-align: top;\n",
       "    }\n",
       "\n",
       "    .dataframe thead tr th {\n",
       "        text-align: left;\n",
       "    }\n",
       "\n",
       "    .dataframe thead tr:last-of-type th {\n",
       "        text-align: right;\n",
       "    }\n",
       "</style>\n",
       "<table border=\"1\" class=\"dataframe\">\n",
       "  <thead>\n",
       "    <tr>\n",
       "      <th></th>\n",
       "      <th></th>\n",
       "      <th>median</th>\n",
       "      <th>mean</th>\n",
       "      <th>std</th>\n",
       "    </tr>\n",
       "    <tr>\n",
       "      <th></th>\n",
       "      <th></th>\n",
       "      <th>total_income_(*1K)</th>\n",
       "      <th>total_income_(*1K)</th>\n",
       "      <th>total_income_(*1K)</th>\n",
       "    </tr>\n",
       "    <tr>\n",
       "      <th>education</th>\n",
       "      <th>income_type</th>\n",
       "      <th></th>\n",
       "      <th></th>\n",
       "      <th></th>\n",
       "    </tr>\n",
       "  </thead>\n",
       "  <tbody>\n",
       "    <tr>\n",
       "      <th rowspan=\"6\" valign=\"top\">bachelor</th>\n",
       "      <th>business</th>\n",
       "      <td>32.2650</td>\n",
       "      <td>38.815121</td>\n",
       "      <td>26.741683</td>\n",
       "    </tr>\n",
       "    <tr>\n",
       "      <th>civil servant</th>\n",
       "      <td>27.6015</td>\n",
       "      <td>31.617434</td>\n",
       "      <td>18.297123</td>\n",
       "    </tr>\n",
       "    <tr>\n",
       "      <th>employee</th>\n",
       "      <td>26.5350</td>\n",
       "      <td>30.672077</td>\n",
       "      <td>18.054728</td>\n",
       "    </tr>\n",
       "    <tr>\n",
       "      <th>entrepreneur</th>\n",
       "      <td>79.8660</td>\n",
       "      <td>79.866000</td>\n",
       "      <td>NaN</td>\n",
       "    </tr>\n",
       "    <tr>\n",
       "      <th>retiree</th>\n",
       "      <td>22.7955</td>\n",
       "      <td>26.453243</td>\n",
       "      <td>16.343666</td>\n",
       "    </tr>\n",
       "    <tr>\n",
       "      <th>student</th>\n",
       "      <td>15.7120</td>\n",
       "      <td>15.712000</td>\n",
       "      <td>NaN</td>\n",
       "    </tr>\n",
       "    <tr>\n",
       "      <th rowspan=\"3\" valign=\"top\">graduate</th>\n",
       "      <th>civil servant</th>\n",
       "      <td>17.8220</td>\n",
       "      <td>17.822000</td>\n",
       "      <td>NaN</td>\n",
       "    </tr>\n",
       "    <tr>\n",
       "      <th>employee</th>\n",
       "      <td>31.7710</td>\n",
       "      <td>31.089000</td>\n",
       "      <td>12.211292</td>\n",
       "    </tr>\n",
       "    <tr>\n",
       "      <th>retiree</th>\n",
       "      <td>28.3340</td>\n",
       "      <td>28.334000</td>\n",
       "      <td>17.725753</td>\n",
       "    </tr>\n",
       "    <tr>\n",
       "      <th rowspan=\"4\" valign=\"top\">primary</th>\n",
       "      <th>business</th>\n",
       "      <td>21.8870</td>\n",
       "      <td>26.408621</td>\n",
       "      <td>11.915970</td>\n",
       "    </tr>\n",
       "    <tr>\n",
       "      <th>civil servant</th>\n",
       "      <td>23.7335</td>\n",
       "      <td>29.448333</td>\n",
       "      <td>25.724289</td>\n",
       "    </tr>\n",
       "    <tr>\n",
       "      <th>employee</th>\n",
       "      <td>20.1590</td>\n",
       "      <td>21.953556</td>\n",
       "      <td>10.186515</td>\n",
       "    </tr>\n",
       "    <tr>\n",
       "      <th>retiree</th>\n",
       "      <td>16.4150</td>\n",
       "      <td>17.910978</td>\n",
       "      <td>9.123071</td>\n",
       "    </tr>\n",
       "    <tr>\n",
       "      <th rowspan=\"6\" valign=\"top\">secondary</th>\n",
       "      <th>business</th>\n",
       "      <td>25.4460</td>\n",
       "      <td>28.731534</td>\n",
       "      <td>15.846106</td>\n",
       "    </tr>\n",
       "    <tr>\n",
       "      <th>civil servant</th>\n",
       "      <td>21.9120</td>\n",
       "      <td>24.663802</td>\n",
       "      <td>12.817864</td>\n",
       "    </tr>\n",
       "    <tr>\n",
       "      <th>employee</th>\n",
       "      <td>21.8530</td>\n",
       "      <td>24.427669</td>\n",
       "      <td>13.247323</td>\n",
       "    </tr>\n",
       "    <tr>\n",
       "      <th>paternity / maternity leave</th>\n",
       "      <td>8.6120</td>\n",
       "      <td>8.612000</td>\n",
       "      <td>NaN</td>\n",
       "    </tr>\n",
       "    <tr>\n",
       "      <th>retiree</th>\n",
       "      <td>18.2715</td>\n",
       "      <td>20.922932</td>\n",
       "      <td>11.594741</td>\n",
       "    </tr>\n",
       "    <tr>\n",
       "      <th>unemployed</th>\n",
       "      <td>9.5930</td>\n",
       "      <td>9.593000</td>\n",
       "      <td>NaN</td>\n",
       "    </tr>\n",
       "    <tr>\n",
       "      <th rowspan=\"4\" valign=\"top\">some college</th>\n",
       "      <th>business</th>\n",
       "      <td>28.7780</td>\n",
       "      <td>31.623379</td>\n",
       "      <td>17.201711</td>\n",
       "    </tr>\n",
       "    <tr>\n",
       "      <th>civil servant</th>\n",
       "      <td>25.6940</td>\n",
       "      <td>27.595848</td>\n",
       "      <td>14.027817</td>\n",
       "    </tr>\n",
       "    <tr>\n",
       "      <th>employee</th>\n",
       "      <td>24.2090</td>\n",
       "      <td>27.934157</td>\n",
       "      <td>14.487298</td>\n",
       "    </tr>\n",
       "    <tr>\n",
       "      <th>retiree</th>\n",
       "      <td>19.6330</td>\n",
       "      <td>23.491774</td>\n",
       "      <td>12.570670</td>\n",
       "    </tr>\n",
       "  </tbody>\n",
       "</table>\n",
       "</div>"
      ],
      "text/plain": [
       "                                                     median  \\\n",
       "                                         total_income_(*1K)   \n",
       "education    income_type                                      \n",
       "bachelor     business                               32.2650   \n",
       "             civil servant                          27.6015   \n",
       "             employee                               26.5350   \n",
       "             entrepreneur                           79.8660   \n",
       "             retiree                                22.7955   \n",
       "             student                                15.7120   \n",
       "graduate     civil servant                          17.8220   \n",
       "             employee                               31.7710   \n",
       "             retiree                                28.3340   \n",
       "primary      business                               21.8870   \n",
       "             civil servant                          23.7335   \n",
       "             employee                               20.1590   \n",
       "             retiree                                16.4150   \n",
       "secondary    business                               25.4460   \n",
       "             civil servant                          21.9120   \n",
       "             employee                               21.8530   \n",
       "             paternity / maternity leave             8.6120   \n",
       "             retiree                                18.2715   \n",
       "             unemployed                              9.5930   \n",
       "some college business                               28.7780   \n",
       "             civil servant                          25.6940   \n",
       "             employee                               24.2090   \n",
       "             retiree                                19.6330   \n",
       "\n",
       "                                                       mean                std  \n",
       "                                         total_income_(*1K) total_income_(*1K)  \n",
       "education    income_type                                                        \n",
       "bachelor     business                             38.815121          26.741683  \n",
       "             civil servant                        31.617434          18.297123  \n",
       "             employee                             30.672077          18.054728  \n",
       "             entrepreneur                         79.866000                NaN  \n",
       "             retiree                              26.453243          16.343666  \n",
       "             student                              15.712000                NaN  \n",
       "graduate     civil servant                        17.822000                NaN  \n",
       "             employee                             31.089000          12.211292  \n",
       "             retiree                              28.334000          17.725753  \n",
       "primary      business                             26.408621          11.915970  \n",
       "             civil servant                        29.448333          25.724289  \n",
       "             employee                             21.953556          10.186515  \n",
       "             retiree                              17.910978           9.123071  \n",
       "secondary    business                             28.731534          15.846106  \n",
       "             civil servant                        24.663802          12.817864  \n",
       "             employee                             24.427669          13.247323  \n",
       "             paternity / maternity leave           8.612000                NaN  \n",
       "             retiree                              20.922932          11.594741  \n",
       "             unemployed                            9.593000                NaN  \n",
       "some college business                             31.623379          17.201711  \n",
       "             civil servant                        27.595848          14.027817  \n",
       "             employee                             27.934157          14.487298  \n",
       "             retiree                              23.491774          12.570670  "
      ]
     },
     "execution_count": 44,
     "metadata": {},
     "output_type": "execute_result"
    }
   ],
   "source": [
    "total_income_pivot_table = credit.pivot_table(\n",
    "                            index=['education', 'income_type'],\n",
    "                               values='total_income_(*1K)',\n",
    "                               aggfunc=['median', 'mean', 'std'])\n",
    "\n",
    "total_income_pivot_table"
   ]
  },
  {
   "cell_type": "markdown",
   "id": "3d31531b",
   "metadata": {},
   "source": [
    "***\n",
    ">Dado que se observan unas desviaciones standard altas, se utilizará la mediana para reemplazar los valores ausentes de esta columna. En el caso de Graduate education, la media y la mediana son la misma, cabe mencionar que en este caso no se tienen valores de mujeres con 0 hijos, sino mujeres con 3 hijos. Se utilizará ese valor.\n",
    "***"
   ]
  },
  {
   "cell_type": "code",
   "execution_count": 45,
   "id": "7439674c",
   "metadata": {},
   "outputs": [
    {
     "name": "stdout",
     "output_type": "stream",
     "text": [
      "<class 'pandas.core.frame.DataFrame'>\n",
      "RangeIndex: 21199 entries, 0 to 21198\n",
      "Data columns (total 15 columns):\n",
      " #   Column              Non-Null Count  Dtype  \n",
      "---  ------              --------------  -----  \n",
      " 0   children            21199 non-null  int64  \n",
      " 1   years_employed      21199 non-null  float64\n",
      " 2   age                 21199 non-null  int64  \n",
      " 3   age_id              21199 non-null  int64  \n",
      " 4   education           21199 non-null  object \n",
      " 5   education_id        21199 non-null  int64  \n",
      " 6   family_status       21199 non-null  object \n",
      " 7   family_status_id    21199 non-null  int64  \n",
      " 8   gender              21199 non-null  object \n",
      " 9   income_type         21199 non-null  object \n",
      " 10  debt                21199 non-null  int64  \n",
      " 11  total_income_(*1K)  21199 non-null  float64\n",
      " 12  total_income_id     21199 non-null  object \n",
      " 13  purpose             21199 non-null  object \n",
      " 14  purpose_id          21199 non-null  int64  \n",
      "dtypes: float64(2), int64(7), object(6)\n",
      "memory usage: 2.4+ MB\n"
     ]
    }
   ],
   "source": [
    "# definir una función que reemplazará los valores ausentes\n",
    "\n",
    "def fill_null_income(row):\n",
    "    education = row['education']\n",
    "    income_type = row['income_type'] \n",
    "    total_income = row['total_income_(*1K)']\n",
    "\n",
    "    if pd.isna(total_income):\n",
    "        try:\n",
    "            return total_income_pivot_table.loc[(education,income_type),('mean','total_income_(*1K)')]\n",
    "        except:\n",
    "            return total_income\n",
    "    return total_income\n",
    "\n",
    "# reemplazar los valores ausentes\n",
    "\n",
    "credit['total_income_(*1K)'] = credit.apply(fill_null_income, axis=1)\n",
    "\n",
    "# mostrar la información del dataset\n",
    "\n",
    "credit.info()"
   ]
  },
  {
   "cell_type": "markdown",
   "id": "05a3c213",
   "metadata": {},
   "source": [
    "***\n",
    ">## Comprobación de las hipótesis\n",
    "***"
   ]
  },
  {
   "cell_type": "markdown",
   "id": "2522688f",
   "metadata": {},
   "source": [
    "**¿Existe una correlación entre tener hijos y pagar a tiempo?**"
   ]
  },
  {
   "cell_type": "code",
   "execution_count": 46,
   "id": "2ad630ed",
   "metadata": {},
   "outputs": [
    {
     "data": {
      "text/html": [
       "<div>\n",
       "<style scoped>\n",
       "    .dataframe tbody tr th:only-of-type {\n",
       "        vertical-align: middle;\n",
       "    }\n",
       "\n",
       "    .dataframe tbody tr th {\n",
       "        vertical-align: top;\n",
       "    }\n",
       "\n",
       "    .dataframe thead tr th {\n",
       "        text-align: left;\n",
       "    }\n",
       "\n",
       "    .dataframe thead tr:last-of-type th {\n",
       "        text-align: right;\n",
       "    }\n",
       "</style>\n",
       "<table border=\"1\" class=\"dataframe\">\n",
       "  <thead>\n",
       "    <tr>\n",
       "      <th></th>\n",
       "      <th>count</th>\n",
       "      <th>sum</th>\n",
       "      <th>debt_rate</th>\n",
       "    </tr>\n",
       "    <tr>\n",
       "      <th></th>\n",
       "      <th>debt</th>\n",
       "      <th>debt</th>\n",
       "      <th></th>\n",
       "    </tr>\n",
       "    <tr>\n",
       "      <th>children</th>\n",
       "      <th></th>\n",
       "      <th></th>\n",
       "      <th></th>\n",
       "    </tr>\n",
       "  </thead>\n",
       "  <tbody>\n",
       "    <tr>\n",
       "      <th>0</th>\n",
       "      <td>13914</td>\n",
       "      <td>1047</td>\n",
       "      <td>7.524795</td>\n",
       "    </tr>\n",
       "    <tr>\n",
       "      <th>1</th>\n",
       "      <td>4802</td>\n",
       "      <td>438</td>\n",
       "      <td>9.121200</td>\n",
       "    </tr>\n",
       "    <tr>\n",
       "      <th>2</th>\n",
       "      <td>2110</td>\n",
       "      <td>201</td>\n",
       "      <td>9.526066</td>\n",
       "    </tr>\n",
       "    <tr>\n",
       "      <th>3</th>\n",
       "      <td>324</td>\n",
       "      <td>26</td>\n",
       "      <td>8.024691</td>\n",
       "    </tr>\n",
       "    <tr>\n",
       "      <th>4</th>\n",
       "      <td>40</td>\n",
       "      <td>4</td>\n",
       "      <td>10.000000</td>\n",
       "    </tr>\n",
       "    <tr>\n",
       "      <th>5</th>\n",
       "      <td>9</td>\n",
       "      <td>0</td>\n",
       "      <td>0.000000</td>\n",
       "    </tr>\n",
       "  </tbody>\n",
       "</table>\n",
       "</div>"
      ],
      "text/plain": [
       "          count   sum  debt_rate\n",
       "           debt  debt           \n",
       "children                        \n",
       "0         13914  1047   7.524795\n",
       "1          4802   438   9.121200\n",
       "2          2110   201   9.526066\n",
       "3           324    26   8.024691\n",
       "4            40     4  10.000000\n",
       "5             9     0   0.000000"
      ]
     },
     "execution_count": 46,
     "metadata": {},
     "output_type": "execute_result"
    }
   ],
   "source": [
    "children_debt = credit.pivot_table(index='children', values='debt', aggfunc= ['count','sum'])\n",
    "children_debt['debt_rate'] = (children_debt[('sum','debt')] / children_debt[('count','debt')])*100\n",
    "children_debt"
   ]
  },
  {
   "cell_type": "markdown",
   "id": "0cb4e7d4",
   "metadata": {},
   "source": [
    ">**Conclusión**\n",
    "\n",
    ">Los resultados muestran que efectivamente hay relación entre el número de hijos y el incumplimiento en el pago. Esto confirma la hipótesis 2."
   ]
  },
  {
   "cell_type": "markdown",
   "id": "c28d91f1",
   "metadata": {},
   "source": [
    "**¿Existe una correlación entre la situación familiar y el pago a tiempo?**"
   ]
  },
  {
   "cell_type": "code",
   "execution_count": 47,
   "id": "5b91aff3",
   "metadata": {},
   "outputs": [
    {
     "data": {
      "text/html": [
       "<div>\n",
       "<style scoped>\n",
       "    .dataframe tbody tr th:only-of-type {\n",
       "        vertical-align: middle;\n",
       "    }\n",
       "\n",
       "    .dataframe tbody tr th {\n",
       "        vertical-align: top;\n",
       "    }\n",
       "\n",
       "    .dataframe thead tr th {\n",
       "        text-align: left;\n",
       "    }\n",
       "\n",
       "    .dataframe thead tr:last-of-type th {\n",
       "        text-align: right;\n",
       "    }\n",
       "</style>\n",
       "<table border=\"1\" class=\"dataframe\">\n",
       "  <thead>\n",
       "    <tr>\n",
       "      <th></th>\n",
       "      <th>count</th>\n",
       "      <th>sum</th>\n",
       "      <th>debt_rate</th>\n",
       "    </tr>\n",
       "    <tr>\n",
       "      <th></th>\n",
       "      <th>debt</th>\n",
       "      <th>debt</th>\n",
       "      <th></th>\n",
       "    </tr>\n",
       "    <tr>\n",
       "      <th>family_status</th>\n",
       "      <th></th>\n",
       "      <th></th>\n",
       "      <th></th>\n",
       "    </tr>\n",
       "  </thead>\n",
       "  <tbody>\n",
       "    <tr>\n",
       "      <th>civil partnership</th>\n",
       "      <td>4108</td>\n",
       "      <td>380</td>\n",
       "      <td>9.250243</td>\n",
       "    </tr>\n",
       "    <tr>\n",
       "      <th>divorced</th>\n",
       "      <td>1172</td>\n",
       "      <td>84</td>\n",
       "      <td>7.167235</td>\n",
       "    </tr>\n",
       "    <tr>\n",
       "      <th>married</th>\n",
       "      <td>12196</td>\n",
       "      <td>918</td>\n",
       "      <td>7.527058</td>\n",
       "    </tr>\n",
       "    <tr>\n",
       "      <th>unmarried</th>\n",
       "      <td>2775</td>\n",
       "      <td>272</td>\n",
       "      <td>9.801802</td>\n",
       "    </tr>\n",
       "    <tr>\n",
       "      <th>widow / widower</th>\n",
       "      <td>948</td>\n",
       "      <td>62</td>\n",
       "      <td>6.540084</td>\n",
       "    </tr>\n",
       "  </tbody>\n",
       "</table>\n",
       "</div>"
      ],
      "text/plain": [
       "                   count  sum debt_rate\n",
       "                    debt debt          \n",
       "family_status                          \n",
       "civil partnership   4108  380  9.250243\n",
       "divorced            1172   84  7.167235\n",
       "married            12196  918  7.527058\n",
       "unmarried           2775  272  9.801802\n",
       "widow / widower      948   62  6.540084"
      ]
     },
     "execution_count": 47,
     "metadata": {},
     "output_type": "execute_result"
    }
   ],
   "source": [
    "status_debt = credit.pivot_table(index='family_status', values='debt', aggfunc= ['count','sum'])\n",
    "status_debt['debt_rate'] = (status_debt[('sum','debt')] / status_debt[('count','debt')])*100\n",
    "status_debt"
   ]
  },
  {
   "cell_type": "markdown",
   "id": "e59f26a3",
   "metadata": {},
   "source": [
    ">**Conclusión**\n",
    "\n",
    ">Existe una relación entre el estado civil y el incumplimiento en los pagos. Las personas que tienen pareja, los solteros, los divorciados y los casados tienden a incumplir en sus pagos. Esto confirma la hipótesis 1."
   ]
  },
  {
   "cell_type": "markdown",
   "id": "b6d71d48",
   "metadata": {},
   "source": [
    "**¿Existe una correlación entre el nivel de ingresos y el pago a tiempo?**"
   ]
  },
  {
   "cell_type": "code",
   "execution_count": 48,
   "id": "6e236b3b",
   "metadata": {},
   "outputs": [
    {
     "data": {
      "text/html": [
       "<div>\n",
       "<style scoped>\n",
       "    .dataframe tbody tr th:only-of-type {\n",
       "        vertical-align: middle;\n",
       "    }\n",
       "\n",
       "    .dataframe tbody tr th {\n",
       "        vertical-align: top;\n",
       "    }\n",
       "\n",
       "    .dataframe thead tr th {\n",
       "        text-align: left;\n",
       "    }\n",
       "\n",
       "    .dataframe thead tr:last-of-type th {\n",
       "        text-align: right;\n",
       "    }\n",
       "</style>\n",
       "<table border=\"1\" class=\"dataframe\">\n",
       "  <thead>\n",
       "    <tr>\n",
       "      <th></th>\n",
       "      <th>count</th>\n",
       "      <th>sum</th>\n",
       "      <th>debt_rate</th>\n",
       "    </tr>\n",
       "    <tr>\n",
       "      <th></th>\n",
       "      <th>debt</th>\n",
       "      <th>debt</th>\n",
       "      <th></th>\n",
       "    </tr>\n",
       "    <tr>\n",
       "      <th>total_income_id</th>\n",
       "      <th></th>\n",
       "      <th></th>\n",
       "      <th></th>\n",
       "    </tr>\n",
       "  </thead>\n",
       "  <tbody>\n",
       "    <tr>\n",
       "      <th>average</th>\n",
       "      <td>3219</td>\n",
       "      <td>223</td>\n",
       "      <td>6.927617</td>\n",
       "    </tr>\n",
       "    <tr>\n",
       "      <th>high</th>\n",
       "      <td>2185</td>\n",
       "      <td>171</td>\n",
       "      <td>7.826087</td>\n",
       "    </tr>\n",
       "    <tr>\n",
       "      <th>low</th>\n",
       "      <td>15795</td>\n",
       "      <td>1322</td>\n",
       "      <td>8.369737</td>\n",
       "    </tr>\n",
       "  </tbody>\n",
       "</table>\n",
       "</div>"
      ],
      "text/plain": [
       "                 count   sum debt_rate\n",
       "                  debt  debt          \n",
       "total_income_id                       \n",
       "average           3219   223  6.927617\n",
       "high              2185   171  7.826087\n",
       "low              15795  1322  8.369737"
      ]
     },
     "execution_count": 48,
     "metadata": {},
     "output_type": "execute_result"
    }
   ],
   "source": [
    "income_debt = credit.pivot_table(index='total_income_id', values='debt', aggfunc= ['count','sum'])\n",
    "income_debt['debt_rate'] = (income_debt[('sum','debt')] / income_debt[('count','debt')])*100\n",
    "income_debt"
   ]
  },
  {
   "cell_type": "markdown",
   "id": "e005d293",
   "metadata": {},
   "source": [
    ">**Conclusión**\n",
    "\n",
    ">Se observa que los usuarios de ingresos bajos tienden más a incumplir en sus pagos."
   ]
  },
  {
   "cell_type": "markdown",
   "id": "6c00aec4",
   "metadata": {},
   "source": [
    "**¿Cómo afecta el propósito del crédito a la tasa de incumplimiento?**"
   ]
  },
  {
   "cell_type": "code",
   "execution_count": 49,
   "id": "cab74242",
   "metadata": {},
   "outputs": [
    {
     "name": "stdout",
     "output_type": "stream",
     "text": [
      "           count  sum debt_rate\n",
      "            debt debt          \n",
      "purpose_id                     \n",
      "0           1882  125  6.641870\n",
      "1           2307  179  7.758994\n",
      "2           3962  367  9.262998\n",
      "3           3793  285  7.513841\n",
      "4           1225  102  8.326531\n",
      "5           4259  397  9.321437\n",
      "6           1891  133  7.033316\n",
      "7           1880  128  6.808511\n",
      "\n",
      "0: house\n",
      "1: wedding\n",
      "2: education\n",
      "2: university\n",
      "2: educated\n",
      "3: estate\n",
      "4: building\n",
      "5: car\n",
      "5: cars\n",
      "6: property\n",
      "7: housing\n"
     ]
    }
   ],
   "source": [
    "purpose_debt = credit.pivot_table(index='purpose_id', values='debt', aggfunc= ['count','sum'])\n",
    "purpose_debt['debt_rate'] = (purpose_debt[('sum','debt')] / purpose_debt[('count','debt')])*100\n",
    "print(purpose_debt)\n",
    "\n",
    "category_dict = {\n",
    "        'house': 0,\n",
    "        'wedding': 1,\n",
    "        'education': 2, 'university': 2, 'educated': 2,\n",
    "        'estate': 3,\n",
    "        'building': 4,\n",
    "        'car': 5, 'cars': 5,\n",
    "        'property': 6,\n",
    "        'housing': 7,\n",
    "    }\n",
    "print()\n",
    "for purpose, num in category_dict.items():\n",
    "    print(f'{num}: {purpose}')"
   ]
  },
  {
   "cell_type": "markdown",
   "id": "f69b3c41",
   "metadata": {},
   "source": [
    ">**Conclusión**\n",
    "\n",
    ">Los usuarios más propensos a endeudarse son aquellos que piden un préstamo para un auto, seguidos de aquellos que quieren invertir en su educación, y quienes quieren el dinero para invertir en una casa."
   ]
  },
  {
   "cell_type": "markdown",
   "id": "73396286",
   "metadata": {},
   "source": [
    "# Conclusión general"
   ]
  },
  {
   "cell_type": "markdown",
   "id": "f5b270b4",
   "metadata": {},
   "source": [
    ">El conjunto de datos original contenía numerosas observaciones con datos ausentes. Tal falta de datos se observó en las columnas de años trabajados y en los ingresos totales del usuario. Se encontraron ciertos patrones en las observaciones, como que los usuarios en su mayoría tenía un nivel de educación secundaria y eran mujeres.\n",
    "\n",
    ">Además, los años trabajados para algunos usuarios retirados mostraban valores muy poco convencionales. Se decidió reemplazar esos valores por algunos representativos de los usuarios en base a sus edades, ya que la edad es un factor determinante para calcular el número de años laborados.\n",
    "\n",
    ">Se eliminaron filas con datos como edad igual a 0 años, y algunos con edades de retiro atípicas. Tal eliminación se basó en que las filas representaban un porcentaje ínfimo del dataset, lo que no influye dramáticamente en el análisis realizado.\n",
    "\n",
    ">Las conclusiones a las que se arribaron muestran que los usuarios que:\n",
    ">* tienen hijos\n",
    ">* tienen pareja, son solteros o divorciados\n",
    ">* ganan menos de 38 mil dólares anuales\n",
    ">* quieren el préstamo para invertirlo en un auto, en educación, o en una casa\n",
    "\n",
    ">son más propensos a no pagar a tiempo un préstamo."
   ]
  }
 ],
 "metadata": {
  "kernelspec": {
   "display_name": "Python 3 (ipykernel)",
   "language": "python",
   "name": "python3"
  },
  "language_info": {
   "codemirror_mode": {
    "name": "ipython",
    "version": 3
   },
   "file_extension": ".py",
   "mimetype": "text/x-python",
   "name": "python",
   "nbconvert_exporter": "python",
   "pygments_lexer": "ipython3",
   "version": "3.9.5"
  },
  "toc": {
   "base_numbering": 1,
   "nav_menu": {
    "height": "11.9886px",
    "width": "160px"
   },
   "number_sections": true,
   "sideBar": true,
   "skip_h1_title": true,
   "title_cell": "Table of Contents",
   "title_sidebar": "Contents",
   "toc_cell": false,
   "toc_position": {
    "height": "calc(100% - 180px)",
    "left": "10px",
    "top": "150px",
    "width": "272px"
   },
   "toc_section_display": true,
   "toc_window_display": false
  }
 },
 "nbformat": 4,
 "nbformat_minor": 5
}
